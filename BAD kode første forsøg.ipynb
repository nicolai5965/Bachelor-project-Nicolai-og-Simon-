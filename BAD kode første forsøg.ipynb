{
 "cells": [
  {
   "cell_type": "code",
   "execution_count": 1,
   "id": "d0e10272-c099-45b0-bacb-314991c4c90a",
   "metadata": {},
   "outputs": [],
   "source": [
    "import numpy as np \n",
    "import matplotlib.pyplot as plt\n",
    "from mpl_toolkits import mplot3d\n",
    "import pandas as pd\n",
    "import os\n",
    "import trackml\n",
    "import time\n",
    "import math\n",
    "import itertools\n",
    "import networkx as nx\n",
    "from numba import jit\n",
    "from collections import Counter\n",
    "from trackml.dataset import load_event , load_dataset\n",
    "from trackml.score import score_event\n",
    "from scipy.spatial import distance\n",
    "from IPython.display import display_html"
   ]
  },
  {
   "cell_type": "markdown",
   "id": "72b2c9ee-74f4-4e6f-b2fa-910063c60947",
   "metadata": {},
   "source": [
    "### Importing data"
   ]
  },
  {
   "cell_type": "code",
   "execution_count": 2,
   "id": "984963d4-ac8d-4205-a631-a79facc59767",
   "metadata": {},
   "outputs": [],
   "source": [
    "hits_train_100, cells_train_100, particles_train_100, truth_train_100 = load_event('train_100_events/event000001000')\n",
    "data_detectors = pd.read_csv(r\"detectors.csv\")\n",
    "\n",
    "#print(data_detectors.iloc[:,:1])\n",
    "#print(truth_train_100[0:4])"
   ]
  },
  {
   "cell_type": "code",
   "execution_count": 3,
   "id": "63cd5294-be3f-425b-8d8a-d43ee4cc4216",
   "metadata": {},
   "outputs": [],
   "source": [
    "def func_import_100_sample():\n",
    "    event_id_10 = np.linspace(0,9,10)\n",
    "    event_id_100 = np.linspace(10,99,90)\n",
    "\n",
    "    cells_all = []\n",
    "    hits_all = []\n",
    "    particles_all = []\n",
    "    truth_all = []\n",
    "\n",
    "    for i in range(len(event_id_10)):\n",
    "        cells_all.append(pd.read_csv('train_100_events/event00000100%d-cells.csv' % event_id_10[i]))\n",
    "    for i in range(len(event_id_100)):\n",
    "        cells_all.append(pd.read_csv('train_100_events/event0000010%d-cells.csv' % event_id_100[i]))\n",
    "\n",
    "    for i in range(len(event_id_10)):\n",
    "        hits_all.append(pd.read_csv('train_100_events/event00000100%d-hits.csv' % event_id_10[i]))\n",
    "    for i in range(len(event_id_100)):\n",
    "        hits_all.append(pd.read_csv('train_100_events/event0000010%d-hits.csv' % event_id_100[i]))\n",
    "\n",
    "    for i in range(len(event_id_10)):\n",
    "        particles_all.append(pd.read_csv('train_100_events/event00000100%d-particles.csv' % event_id_10[i]))\n",
    "    for i in range(len(event_id_100)):\n",
    "        particles_all.append(pd.read_csv('train_100_events/event0000010%d-particles.csv' % event_id_100[i]))\n",
    "\n",
    "    for i in range(len(event_id_10)):\n",
    "        truth_all.append(pd.read_csv('train_100_events/event00000100%d-truth.csv' % event_id_10[i]))\n",
    "    for i in range(len(event_id_100)):\n",
    "        truth_all.append(pd.read_csv('train_100_events/event0000010%d-truth.csv' % event_id_100[i]))\n",
    "    return cells_all , hits_all , particles_all , truth_all\n"
   ]
  },
  {
   "cell_type": "code",
   "execution_count": 4,
   "id": "fc52b53b-3bfa-4242-8bcb-f752d7eb3407",
   "metadata": {},
   "outputs": [],
   "source": [
    "# start = time.time()\n",
    "\n",
    "# cells_all = func_import_100_sample()[0]\n",
    "# hits_all = func_import_100_sample()[1]\n",
    "# particles_all = func_import_100_sample()[2]\n",
    "# truth_all = func_import_100_sample()[3]\n",
    "\n",
    "# end = time.time()\n",
    "# run_time = end - start\n",
    "# print(run_time, \"s\")"
   ]
  },
  {
   "cell_type": "markdown",
   "id": "873c44f6-5bc1-4703-94b1-62f0e80608cd",
   "metadata": {
    "tags": []
   },
   "source": [
    "### Making functions"
   ]
  },
  {
   "cell_type": "code",
   "execution_count": 14,
   "id": "12f54992-bc13-4b95-b4a5-de85983ac33e",
   "metadata": {},
   "outputs": [],
   "source": [
    "def func_cleaning_data(cells , hits, particles , truth,pt_cut):\n",
    "    #Finding all hit_id that is noice, to use in other files for removing nocie in them.\n",
    "    def noice(truth):\n",
    "        truth_hit_id_noice = [truth.hit_id[i] for i in range(len(truth)) if truth.particle_id[i] == 0]\n",
    "        return truth_hit_id_noice\n",
    "    truth_hit_id_noice_list = noice(truth)\n",
    "    #Removing all the noice in the truth file:\n",
    "    truth_zero_noice = truth.drop(truth.index[truth['particle_id'] == 0]).reset_index()\n",
    "    #Removing all the data where the nhits is >=3 :\n",
    "    particles_zero_noice = particles.drop(particles.index[particles['nhits'] <= 3]).reset_index()\n",
    "    #Sorting the particles\n",
    "    particles_zero_noice_sorted_unique = particles_zero_noice.sort_values(by = \"particle_id\",ascending=True)\n",
    "    #Making a function that can remove all row that has a value in a list\n",
    "    def FRBV(file_name, column_name, list_of_values):\n",
    "        return file_name[~file_name[column_name].isin(list_of_values)]\n",
    "    #Removing all the noice in the cells file:\n",
    "    cells_zero_noice = FRBV(cells , \"hit_id\" , truth_hit_id_noice_list).reset_index()\n",
    "    #Removing all the noice in the hits file:\n",
    "    hits_zero_noice = FRBV(hits , \"hit_id\" , truth_hit_id_noice_list).reset_index()\n",
    "    #Making a function that can remove all the data, that has a nhits over 7.\n",
    "    def nhit_over_7(data):\n",
    "        data = [data.particle_id[i] for i in range(len(data)) if data.nhits[i] > 7]\n",
    "        return data\n",
    "    #Removing all the data where nhits is less then 7\n",
    "    particle_id_with_nhits_over_7 = nhit_over_7(particles_zero_noice_sorted_unique)\n",
    "    #Removing all the data where nhits is over then 7\n",
    "    particle_id_with_nhits_lees_7 = FRBV(particles_zero_noice_sorted_unique , \"particle_id\" , particle_id_with_nhits_over_7).drop(\"index\",axis = 1).reset_index().drop(\"index\",axis = 1)\n",
    "    #Removing all the data where a particle_id has more then 7 nhits.\n",
    "    truth_zero_noice_nhits_lees_7 = FRBV(truth_zero_noice , \"particle_id\" , particle_id_with_nhits_over_7).drop(\"index\",axis = 1).reset_index().drop(\"index\",axis = 1)\n",
    "    #Making a function that can make a list of the hit_ids that has a weight of 0.\n",
    "    def weight_equle_0(data):\n",
    "        data = [data.hit_id[i] for i in range(len(data)) if data.weight[i] == 0]\n",
    "        return data\n",
    "    #Using the weight_equle_0 function to make a list of hit_id´s that has a weight equle 0\n",
    "    truth_weight_0_list = weight_equle_0(truth_zero_noice_nhits_lees_7)\n",
    "    #Using the list of hit_id´s that has a weight equle 0, to remove the rows in truth that has that hit_id.\n",
    "    truth_zero_noice_nhits_lees_7_weight_0 = FRBV(truth_zero_noice_nhits_lees_7,\"hit_id\",truth_weight_0_list).reset_index().drop(\"index\",axis = 1)\n",
    "    \n",
    "    #Removing the data where the particle_id has less then 7 nhits.\n",
    "    truth_zero_noice_nhits_over_7 = FRBV(truth_zero_noice , \"particle_id\" ,truth_zero_noice_nhits_lees_7.particle_id).drop(\"index\",axis = 1).reset_index().drop(\"index\",axis = 1)\n",
    "    #Removing the data where the hit_id has less the 7 nhits.\n",
    "    hits_zero_noice_nhits_lees_7 = FRBV(hits_zero_noice, \"hit_id\",truth_zero_noice_nhits_over_7[\"hit_id\"]).drop(\"index\",axis = 1).reset_index().drop(\"index\",axis = 1)\n",
    "    #Making a list of all the particle_ids that has over 3 nhits\n",
    "    particles_id_over_3 = [particles.particle_id[i] for i in range(len(particles)) if particles.nhits[i] > 3]\n",
    "    #Removing all the data in truth that has less the 3 nhits. Used for later in cells and hits.  \n",
    "    truth_zero_noice_over_3 = FRBV(truth_zero_noice,\"particle_id\",particles_id_over_3).drop(\"index\",axis = 1).reset_index().drop(\"index\",axis = 1)\n",
    "    #Removing all the data in hits that has over the 3 nhits.\n",
    "    hits_zero_noice_nhits_lees_7_over_3_with_weight_0 = FRBV(hits_zero_noice_nhits_lees_7,\"hit_id\",truth_zero_noice_over_3.hit_id).reset_index().drop(\"index\",axis = 1)\n",
    "    #Making a list of hit_id that is not in truth but is in hits\n",
    "    hit_id_in_hits_but_not_in_truth = FRBV(hits_zero_noice_nhits_lees_7_over_3_with_weight_0,\"hit_id\",truth_zero_noice_nhits_lees_7_weight_0.hit_id).reset_index().drop(\"index\",axis = 1)\n",
    "    #Using that hits not in truth, and then removing them from hits. \n",
    "    hits_zero_noice_nhits_lees_7_over_3_without_weight_0 = FRBV(hits_zero_noice_nhits_lees_7_over_3_with_weight_0,\"hit_id\",hit_id_in_hits_but_not_in_truth.hit_id).reset_index().drop(\"index\",axis = 1)\n",
    "\n",
    "    #Removing the data where the hit_id has less the 7 nhits.\n",
    "    cells_zero_noice_nhits_lees_7 = FRBV(cells_zero_noice, \"hit_id\",truth_zero_noice_nhits_over_7[\"hit_id\"]).drop(\"index\",axis = 1).reset_index().drop(\"index\",axis = 1)\n",
    "    #Removing all the data in cells that has over the 3 nhits.\n",
    "    cells_zero_noice_nhits_lees_7_over_3_with_weight_0 = FRBV(cells_zero_noice_nhits_lees_7,\"hit_id\",truth_zero_noice_over_3.hit_id).reset_index().drop(\"index\",axis = 1)\n",
    "    #Making a list of hit_id that is not in truth but is in cells\n",
    "    hit_id_in_cells_but_not_in_truth = FRBV(cells_zero_noice_nhits_lees_7_over_3_with_weight_0,\"hit_id\",truth_zero_noice_nhits_lees_7_weight_0.hit_id).reset_index().drop(\"index\",axis = 1)\n",
    "    #Using that cells hit_id not in truth, and then removing them from cells.\n",
    "    cells_zero_noice_nhits_lees_7_over_3_without_weight_0 = FRBV(cells_zero_noice_nhits_lees_7_over_3_with_weight_0,\"hit_id\",hit_id_in_cells_but_not_in_truth.hit_id).reset_index().drop(\"index\",axis = 1)\n",
    "    \n",
    "    #Putting all the data from truth into hits:\n",
    "    hits_merge = hits_zero_noice_nhits_lees_7_over_3_without_weight_0.merge(truth_zero_noice_nhits_lees_7_weight_0, how='left', on='hit_id')\n",
    "    #Making a same layer filter \n",
    "    def same_layer_filter(hits_new):\n",
    "        hits_long_layer_filtert = hits_new.drop_duplicates(subset = [\"particle_id\",\"volume_id\", \"layer_id\"])\n",
    "        return hits_long_layer_filtert\n",
    "    hits_long_layer_filtert = same_layer_filter(hits_merge)\n",
    "    #Making a function that can show the removed particles from same layer filter.\n",
    "    def Remove_Elements(data, thrsshold):\n",
    "        counted = Counter(data)\n",
    "        temp_lst = []\n",
    "        for i in counted:\n",
    "            if counted[i] < thrsshold:\n",
    "                temp_lst.append(i)\n",
    "        res_lst = []\n",
    "        for i in data:\n",
    "            if i not in temp_lst:\n",
    "                res_lst.append(i)\n",
    "        data = [i for i in data if counted[i] >= thrsshold]\n",
    "        return data , temp_lst , res_lst\n",
    "    thrsshold = 4\n",
    "    hits_filtert , particles_nhits_less_4 , particles_nhits_over_4 = Remove_Elements(hits_long_layer_filtert[\"particle_id\"],thrsshold)\n",
    "    #Removing the particles from the same layer filter in hits_merge and particle file\n",
    "    hits_merge_filtered = FRBV(hits_long_layer_filtert ,\"particle_id\", particles_nhits_less_4).reset_index().drop(\"index\",axis = 1)\n",
    "    particles_merge_filtered = FRBV(particle_id_with_nhits_lees_7 ,\"particle_id\", particles_nhits_less_4).reset_index().drop(\"index\",axis = 1)\n",
    "\n",
    "    #Calculating the pt of a particle:\n",
    "    Pt = []\n",
    "    for i in (range(len(particles_merge_filtered))):\n",
    "        func = (particles_merge_filtered.px[i]**2+particles_merge_filtered.py[i]**2)**(1/2)\n",
    "        Pt.append([particles_merge_filtered.particle_id[i],func])\n",
    "    #Making the pt filter loop\n",
    "    Pt_1GeV = []\n",
    "    for i in range(len(Pt)):\n",
    "        if Pt[i][1] >= pt_cut:  # and Pt[i][1] <= 2\n",
    "            Pt_1GeV.append(Pt[i])\n",
    "    #Finding the particles from the pt filter \n",
    "    particles_over_Pt_1GeV = []\n",
    "    for i in range(len(Pt_1GeV)):\n",
    "        particles_over_Pt_1GeV.append(Pt_1GeV[i][0])\n",
    "    # Making a function that keeps values that is in list, and removes the ones that is not. \n",
    "    def FCBV(file_name, column_name, list_of_values):\n",
    "        return file_name[file_name[column_name].isin(list_of_values)]\n",
    "    #Removing the rows from the pt filter.  \n",
    "    particles_over_Pt_1GeV_filtered = FCBV(particles_merge_filtered ,\"particle_id\", particles_over_Pt_1GeV).reset_index().drop(\"index\",axis = 1)\n",
    "    hits_merge_over_Pt_1GeV_filtered = FCBV(hits_merge_filtered ,\"particle_id\", particles_over_Pt_1GeV).reset_index().drop(\"index\",axis = 1)\n",
    "    return  hits_merge_over_Pt_1GeV_filtered , particles_over_Pt_1GeV_filtered"
   ]
  },
  {
   "cell_type": "code",
   "execution_count": 19,
   "id": "2735ef1d-d3ab-4d08-a880-b04ce29cf268",
   "metadata": {},
   "outputs": [
    {
     "name": "stdout",
     "output_type": "stream",
     "text": [
      "465 94\n",
      "Wall time: 1.39 s\n"
     ]
    }
   ],
   "source": [
    "%%time\n",
    "hits_merge, particles_1GeV = func_cleaning_data(cells_train_100,hits_train_100,particles_train_100,truth_train_100,1)\n",
    "\n",
    "print( len(hits_merge),len(particles_1GeV))\n"
   ]
  },
  {
   "cell_type": "markdown",
   "id": "b8b963ee-d989-4fb3-9f7b-1f55b5554c2e",
   "metadata": {
    "tags": []
   },
   "source": [
    "### Calling data cleaning data"
   ]
  },
  {
   "cell_type": "code",
   "execution_count": 7,
   "id": "942e5cee-3faf-4212-943f-182c4ca332e9",
   "metadata": {},
   "outputs": [],
   "source": [
    "# Start = time.time()\n",
    "\n",
    "# for i in range(100):\n",
    "#     cells_all_clean , hits_all_clean , particles_all_clean, truth_all_clean  = func_cleaning_data(cells_all[i],hits_all[i],particles_all[i],truth_all[i])\n",
    "\n",
    "# end = time.time()\n",
    "# run_time = end - Start\n",
    "# print(round(run_time,4), \"s\")"
   ]
  },
  {
   "cell_type": "markdown",
   "id": "82e600ba-6d8f-4762-848c-35e0483fec5f",
   "metadata": {},
   "source": [
    "### Making a same layer filter and after nhits filter again:"
   ]
  },
  {
   "cell_type": "code",
   "execution_count": null,
   "id": "322b6ac4-7e1e-4a71-9830-962640b86521",
   "metadata": {},
   "outputs": [],
   "source": []
  },
  {
   "cell_type": "code",
   "execution_count": null,
   "id": "268772d3-cb2b-4371-b52f-25d2e3fa7690",
   "metadata": {},
   "outputs": [],
   "source": []
  },
  {
   "cell_type": "code",
   "execution_count": null,
   "id": "6e2cfe51-5beb-4f12-8698-4a5370e85aa0",
   "metadata": {},
   "outputs": [],
   "source": []
  },
  {
   "cell_type": "code",
   "execution_count": 8,
   "id": "dc6d9741-08a0-4073-a6a7-809c51b4d126",
   "metadata": {},
   "outputs": [
    {
     "name": "stdout",
     "output_type": "stream",
     "text": [
      "0.09668378531932831 3.0623741149902344\n",
      "Wall time: 1.99 ms\n"
     ]
    }
   ],
   "source": [
    "%%time\n",
    "\n",
    "def car_to_cyl_cood(x,y,z):\n",
    "    r = np.sqrt(x**2 + y**2)\n",
    "    phi = np.arctan2(y,x)\n",
    "    z = z\n",
    "    return r , phi , z \n",
    "\n",
    "r_hits , phi_hits , z_hits = car_to_cyl_cood(hits_merge.x,hits_merge.y,hits_merge.z)\n",
    "\n",
    "hits_merge[\"phi\"] = phi_hits\n",
    "hits_merge[\"r\"] = r_hits\n",
    "\n",
    "def car_to_sphe_cood(r,z):\n",
    "    theta = np.arctan2(r,z)\n",
    "    return theta\n",
    "\n",
    "theta = car_to_sphe_cood(r_hits,z_hits)\n",
    "\n",
    "print(min(theta),max(theta))\n",
    "\n",
    "#plt.plot(theta)"
   ]
  },
  {
   "cell_type": "code",
   "execution_count": 9,
   "id": "d5d77f4d-6740-4768-ab60-549abfb38cd4",
   "metadata": {},
   "outputs": [
    {
     "name": "stdout",
     "output_type": "stream",
     "text": [
      "Wall time: 3.99 ms\n"
     ]
    }
   ],
   "source": [
    "%%time\n",
    "\n",
    "def edge_feat(r,phi,z, theta):\n",
    "    r = list(r)\n",
    "    phi = list(phi)\n",
    "    z = list(z)\n",
    "    dphi = []\n",
    "    z_0 = []\n",
    "    eta = -np.log(np.tan(theta/2))  # the pseudoangular\n",
    "    delta_phi = []\n",
    "    delta_eta = []\n",
    "    delta_z = []\n",
    "    delta_r = []\n",
    "    for i in range(0,len(r)-1): #i=1  , i=2\n",
    "        for k in range(1,len(r)): #k=1-len(r) ,k=1-len(r)\n",
    "            dp = phi[k] - phi[i]\n",
    "            delta_phi.append(dp)\n",
    "            delta_eta_values = eta[k] - eta[i]\n",
    "            delta_eta.append(delta_eta_values)\n",
    "            delta_z_values = z[k] - z[i]\n",
    "            delta_z.append(delta_z_values)\n",
    "            delta_r_values = r[k] - r[i]\n",
    "            delta_r.append(delta_r_values)\n",
    "            dr = r[k] - r[i]\n",
    "            dpi = dp/dr\n",
    "            z0 = z[i] - r[i]*((z[k] - z[i])/(r[k]-r[i]))\n",
    "            if abs(dpi) < 0.0006 and abs(z0) < 200:\n",
    "                dphi.append(dpi)\n",
    "                z_0.append(z0)\n",
    "        return dphi, z_0 , eta , delta_phi , delta_eta, delta_z , delta_r\n",
    "\n",
    "dphi, z_0 , eta , delta_phi , delta_eta, delta_z ,delta_r = edge_feat(r_hits,phi_hits,z_hits,theta)\n",
    "\n",
    "def delta_R(delta_eta,delta_phi):\n",
    "    delta_R = []\n",
    "    for i in range(len(delta_eta)):\n",
    "        delta_R.append((delta_eta[i]**2 + delta_phi[i]**2)**(1/2))\n",
    "    return delta_R\n",
    "\n",
    "delta_R = delta_R(delta_eta,delta_phi)\n"
   ]
  },
  {
   "cell_type": "code",
   "execution_count": null,
   "id": "103d814c-1b9b-4769-8f03-b8c73181e01c",
   "metadata": {},
   "outputs": [],
   "source": [
    "\n"
   ]
  },
  {
   "cell_type": "code",
   "execution_count": 10,
   "id": "f8fabd49-933c-4615-bbb6-0aa33209dd25",
   "metadata": {},
   "outputs": [
    {
     "data": {
      "text/html": [
       "<div>\n",
       "<style scoped>\n",
       "    .dataframe tbody tr th:only-of-type {\n",
       "        vertical-align: middle;\n",
       "    }\n",
       "\n",
       "    .dataframe tbody tr th {\n",
       "        vertical-align: top;\n",
       "    }\n",
       "\n",
       "    .dataframe thead th {\n",
       "        text-align: right;\n",
       "    }\n",
       "</style>\n",
       "<table border=\"1\" class=\"dataframe\">\n",
       "  <thead>\n",
       "    <tr style=\"text-align: right;\">\n",
       "      <th></th>\n",
       "      <th>hit_id</th>\n",
       "      <th>z</th>\n",
       "      <th>r</th>\n",
       "      <th>phi</th>\n",
       "    </tr>\n",
       "  </thead>\n",
       "  <tbody>\n",
       "    <tr>\n",
       "      <th>0</th>\n",
       "      <td>2274</td>\n",
       "      <td>-1298.0</td>\n",
       "      <td>163.245209</td>\n",
       "      <td>-0.244324</td>\n",
       "    </tr>\n",
       "    <tr>\n",
       "      <th>1</th>\n",
       "      <td>3504</td>\n",
       "      <td>-1098.0</td>\n",
       "      <td>87.265312</td>\n",
       "      <td>-2.251008</td>\n",
       "    </tr>\n",
       "    <tr>\n",
       "      <th>2</th>\n",
       "      <td>3588</td>\n",
       "      <td>-1098.0</td>\n",
       "      <td>152.552094</td>\n",
       "      <td>-2.093910</td>\n",
       "    </tr>\n",
       "    <tr>\n",
       "      <th>3</th>\n",
       "      <td>4206</td>\n",
       "      <td>-1098.0</td>\n",
       "      <td>137.925751</td>\n",
       "      <td>-0.238793</td>\n",
       "    </tr>\n",
       "    <tr>\n",
       "      <th>4</th>\n",
       "      <td>4941</td>\n",
       "      <td>-1098.0</td>\n",
       "      <td>118.572090</td>\n",
       "      <td>1.778811</td>\n",
       "    </tr>\n",
       "    <tr>\n",
       "      <th>...</th>\n",
       "      <td>...</td>\n",
       "      <td>...</td>\n",
       "      <td>...</td>\n",
       "      <td>...</td>\n",
       "    </tr>\n",
       "    <tr>\n",
       "      <th>460</th>\n",
       "      <td>119069</td>\n",
       "      <td>1502.5</td>\n",
       "      <td>912.669495</td>\n",
       "      <td>2.388788</td>\n",
       "    </tr>\n",
       "    <tr>\n",
       "      <th>461</th>\n",
       "      <td>119314</td>\n",
       "      <td>1797.5</td>\n",
       "      <td>807.205994</td>\n",
       "      <td>-0.192559</td>\n",
       "    </tr>\n",
       "    <tr>\n",
       "      <th>462</th>\n",
       "      <td>119561</td>\n",
       "      <td>2147.5</td>\n",
       "      <td>808.090149</td>\n",
       "      <td>-2.861287</td>\n",
       "    </tr>\n",
       "    <tr>\n",
       "      <th>463</th>\n",
       "      <td>119728</td>\n",
       "      <td>2152.5</td>\n",
       "      <td>973.528870</td>\n",
       "      <td>-0.162484</td>\n",
       "    </tr>\n",
       "    <tr>\n",
       "      <th>464</th>\n",
       "      <td>119987</td>\n",
       "      <td>2555.5</td>\n",
       "      <td>952.646729</td>\n",
       "      <td>-2.850172</td>\n",
       "    </tr>\n",
       "  </tbody>\n",
       "</table>\n",
       "<p>465 rows × 4 columns</p>\n",
       "</div>"
      ],
      "text/plain": [
       "     hit_id       z           r       phi\n",
       "0      2274 -1298.0  163.245209 -0.244324\n",
       "1      3504 -1098.0   87.265312 -2.251008\n",
       "2      3588 -1098.0  152.552094 -2.093910\n",
       "3      4206 -1098.0  137.925751 -0.238793\n",
       "4      4941 -1098.0  118.572090  1.778811\n",
       "..      ...     ...         ...       ...\n",
       "460  119069  1502.5  912.669495  2.388788\n",
       "461  119314  1797.5  807.205994 -0.192559\n",
       "462  119561  2147.5  808.090149 -2.861287\n",
       "463  119728  2152.5  973.528870 -0.162484\n",
       "464  119987  2555.5  952.646729 -2.850172\n",
       "\n",
       "[465 rows x 4 columns]"
      ]
     },
     "metadata": {},
     "output_type": "display_data"
    },
    {
     "data": {
      "text/html": [
       "<div>\n",
       "<style scoped>\n",
       "    .dataframe tbody tr th:only-of-type {\n",
       "        vertical-align: middle;\n",
       "    }\n",
       "\n",
       "    .dataframe tbody tr th {\n",
       "        vertical-align: top;\n",
       "    }\n",
       "\n",
       "    .dataframe thead th {\n",
       "        text-align: right;\n",
       "    }\n",
       "</style>\n",
       "<table border=\"1\" class=\"dataframe\">\n",
       "  <thead>\n",
       "    <tr style=\"text-align: right;\">\n",
       "      <th></th>\n",
       "      <th>delta_r</th>\n",
       "      <th>delta_phi</th>\n",
       "      <th>delta_z</th>\n",
       "      <th>delta_R</th>\n",
       "    </tr>\n",
       "  </thead>\n",
       "  <tbody>\n",
       "    <tr>\n",
       "      <th>0</th>\n",
       "      <td>-75.979897</td>\n",
       "      <td>-2.006684</td>\n",
       "      <td>200.0</td>\n",
       "      <td>2.057978</td>\n",
       "    </tr>\n",
       "    <tr>\n",
       "      <th>1</th>\n",
       "      <td>-10.693115</td>\n",
       "      <td>-1.849586</td>\n",
       "      <td>200.0</td>\n",
       "      <td>1.852219</td>\n",
       "    </tr>\n",
       "    <tr>\n",
       "      <th>2</th>\n",
       "      <td>-25.319458</td>\n",
       "      <td>0.005531</td>\n",
       "      <td>200.0</td>\n",
       "      <td>0.005659</td>\n",
       "    </tr>\n",
       "    <tr>\n",
       "      <th>3</th>\n",
       "      <td>-44.673119</td>\n",
       "      <td>2.023136</td>\n",
       "      <td>200.0</td>\n",
       "      <td>2.028790</td>\n",
       "    </tr>\n",
       "    <tr>\n",
       "      <th>4</th>\n",
       "      <td>-87.123985</td>\n",
       "      <td>-2.008039</td>\n",
       "      <td>340.0</td>\n",
       "      <td>2.059350</td>\n",
       "    </tr>\n",
       "    <tr>\n",
       "      <th>...</th>\n",
       "      <td>...</td>\n",
       "      <td>...</td>\n",
       "      <td>...</td>\n",
       "      <td>...</td>\n",
       "    </tr>\n",
       "    <tr>\n",
       "      <th>459</th>\n",
       "      <td>749.424286</td>\n",
       "      <td>2.633113</td>\n",
       "      <td>2800.5</td>\n",
       "      <td>4.825397</td>\n",
       "    </tr>\n",
       "    <tr>\n",
       "      <th>460</th>\n",
       "      <td>643.960785</td>\n",
       "      <td>0.051765</td>\n",
       "      <td>3095.5</td>\n",
       "      <td>4.311417</td>\n",
       "    </tr>\n",
       "    <tr>\n",
       "      <th>461</th>\n",
       "      <td>644.844940</td>\n",
       "      <td>-2.616963</td>\n",
       "      <td>3445.5</td>\n",
       "      <td>5.183674</td>\n",
       "    </tr>\n",
       "    <tr>\n",
       "      <th>462</th>\n",
       "      <td>810.283661</td>\n",
       "      <td>0.081840</td>\n",
       "      <td>3450.5</td>\n",
       "      <td>4.305398</td>\n",
       "    </tr>\n",
       "    <tr>\n",
       "      <th>463</th>\n",
       "      <td>789.401520</td>\n",
       "      <td>-2.605848</td>\n",
       "      <td>3853.5</td>\n",
       "      <td>5.185659</td>\n",
       "    </tr>\n",
       "  </tbody>\n",
       "</table>\n",
       "<p>464 rows × 4 columns</p>\n",
       "</div>"
      ],
      "text/plain": [
       "        delta_r  delta_phi  delta_z   delta_R\n",
       "0    -75.979897  -2.006684    200.0  2.057978\n",
       "1    -10.693115  -1.849586    200.0  1.852219\n",
       "2    -25.319458   0.005531    200.0  0.005659\n",
       "3    -44.673119   2.023136    200.0  2.028790\n",
       "4    -87.123985  -2.008039    340.0  2.059350\n",
       "..          ...        ...      ...       ...\n",
       "459  749.424286   2.633113   2800.5  4.825397\n",
       "460  643.960785   0.051765   3095.5  4.311417\n",
       "461  644.844940  -2.616963   3445.5  5.183674\n",
       "462  810.283661   0.081840   3450.5  4.305398\n",
       "463  789.401520  -2.605848   3853.5  5.185659\n",
       "\n",
       "[464 rows x 4 columns]"
      ]
     },
     "metadata": {},
     "output_type": "display_data"
    }
   ],
   "source": [
    "#Making the datafram that contains the nodes ids and the nodes features. \n",
    "nodes_id_plus_features = hits_merge[[\"hit_id\",\"z\",\"r\",\"phi\"]].copy()\n",
    "#Making the datafram that contains the edges features. \n",
    "edges_features= {'delta_r': delta_r , 'delta_phi': delta_phi , \"delta_z\": delta_z , \"delta_R\": delta_R} \n",
    "edges_features = pd.DataFrame(data = edges_features)\n",
    "\n",
    "display(nodes_id_plus_features)\n",
    "display(edges_features)"
   ]
  },
  {
   "cell_type": "markdown",
   "id": "4defc32d-e430-4843-a39a-f05dfadf3296",
   "metadata": {
    "tags": []
   },
   "source": [
    "### Kigger på data"
   ]
  },
  {
   "cell_type": "markdown",
   "id": "b5be89cb-e1b8-435a-904e-b284a3a6c6e4",
   "metadata": {},
   "source": [
    "### Ploting data pre GNN"
   ]
  },
  {
   "cell_type": "code",
   "execution_count": 11,
   "id": "78f32cb3-997e-487c-a41a-ee1b4ec24519",
   "metadata": {},
   "outputs": [
    {
     "name": "stdout",
     "output_type": "stream",
     "text": [
      "110919 110919 110919\n",
      "450 450 450\n"
     ]
    }
   ],
   "source": [
    "def plotting_data(data_rough,data_clean):\n",
    "    XYZ_rough = [[],[],[]]\n",
    "    XYZ_clean = [[],[],[]]\n",
    "    for i, idx in enumerate(range(len(data_rough.x))):\n",
    "        if abs(data_rough.z[i]) < 2000:\n",
    "            XYZ_rough[0].append((data_rough.x[idx]))\n",
    "            XYZ_rough[1].append((data_rough.y[idx]))\n",
    "            XYZ_rough[2].append((data_rough.z[idx]))\n",
    "    print(len(XYZ_rough[0]), len(XYZ_rough[1]), len(XYZ_rough[2]))\n",
    "\n",
    "    for i, idx in enumerate(range(len(data_clean.x))):\n",
    "        if abs(data_clean.z[i]) < 2000:\n",
    "            XYZ_clean[0].append((data_clean.x[idx]))\n",
    "            XYZ_clean[1].append((data_clean.y[idx]))\n",
    "            XYZ_clean[2].append((data_clean.z[idx]))\n",
    "    print(len(XYZ_clean[0]), len(XYZ_clean[1]), len(XYZ_clean[2]))\n",
    "    return XYZ_rough , XYZ_clean\n",
    "\n",
    "XYZ_rough , XYZ_clean = plotting_data(hits_train_100,hits_merge)"
   ]
  },
  {
   "cell_type": "code",
   "execution_count": 12,
   "id": "4cd1cdaa-000c-452a-b21d-1068074182c0",
   "metadata": {},
   "outputs": [
    {
     "data": {
      "text/plain": [
       "(-2000.0, 2000.0)"
      ]
     },
     "execution_count": 12,
     "metadata": {},
     "output_type": "execute_result"
    },
    {
     "data": {
      "image/png": "[encoded data removed]",
      "text/plain": [
       "<Figure size 360x360 with 1 Axes>"
      ]
     },
     "metadata": {
      "needs_background": "light"
     },
     "output_type": "display_data"
    },
    {
     "data": {
      "image/png": "[encoded data removed]",
      "text/plain": [
       "<Figure size 360x360 with 1 Axes>"
      ]
     },
     "metadata": {
      "needs_background": "light"
     },
     "output_type": "display_data"
    }
   ],
   "source": [
    "zoom = 2000\n",
    "figsize = 5\n",
    "alpha = 0.35\n",
    "\n",
    "fig = plt.figure(1, figsize = (figsize,figsize))\n",
    "ax = plt.axes(projection='3d')\n",
    "ax.scatter3D(XYZ_rough[0],XYZ_rough[1],XYZ_rough[2], c = XYZ_rough[0], alpha = alpha)\n",
    "plt.xlim(-zoom,zoom)\n",
    "plt.ylim(-zoom,zoom)\n",
    "ax.set_zlim(-zoom,zoom)\n",
    "\n",
    "\n",
    "fig = plt.figure(2, figsize = (figsize,figsize))\n",
    "ax = plt.axes(projection='3d')\n",
    "ax.scatter3D(XYZ_clean[0],XYZ_clean[1],XYZ_clean[2], c = XYZ_clean[0] , alpha = alpha)\n",
    "plt.xlim(-zoom,zoom)\n",
    "plt.ylim(-zoom,zoom)\n",
    "ax.set_zlim(-zoom,zoom)"
   ]
  },
  {
   "cell_type": "code",
   "execution_count": 13,
   "id": "1cd614f8-eda5-4e42-9339-3d13709120ee",
   "metadata": {},
   "outputs": [
    {
     "ename": "NameError",
     "evalue": "name 'particles' is not defined",
     "output_type": "error",
     "traceback": [
      "\u001b[1;31m---------------------------------------------------------------------------\u001b[0m",
      "\u001b[1;31mNameError\u001b[0m                                 Traceback (most recent call last)",
      "\u001b[1;32m~\\AppData\\Local\\Temp/ipykernel_19308/3048906882.py\u001b[0m in \u001b[0;36m<module>\u001b[1;34m\u001b[0m\n\u001b[0;32m      1\u001b[0m \u001b[0mplt\u001b[0m\u001b[1;33m.\u001b[0m\u001b[0mfigure\u001b[0m\u001b[1;33m(\u001b[0m\u001b[1;36m1\u001b[0m\u001b[1;33m)\u001b[0m\u001b[1;33m\u001b[0m\u001b[1;33m\u001b[0m\u001b[0m\n\u001b[1;32m----> 2\u001b[1;33m \u001b[0mplt\u001b[0m\u001b[1;33m.\u001b[0m\u001b[0mpie\u001b[0m\u001b[1;33m(\u001b[0m\u001b[0mparticles\u001b[0m\u001b[1;33m.\u001b[0m\u001b[0mgroupby\u001b[0m\u001b[1;33m(\u001b[0m\u001b[1;34m'q'\u001b[0m\u001b[1;33m)\u001b[0m\u001b[1;33m[\u001b[0m\u001b[1;34m'vx'\u001b[0m\u001b[1;33m]\u001b[0m\u001b[1;33m.\u001b[0m\u001b[0mcount\u001b[0m\u001b[1;33m(\u001b[0m\u001b[1;33m)\u001b[0m\u001b[1;33m,\u001b[0m \u001b[0mlabels\u001b[0m\u001b[1;33m=\u001b[0m\u001b[1;33m[\u001b[0m\u001b[1;34m'negative'\u001b[0m\u001b[1;33m,\u001b[0m \u001b[1;34m'positive'\u001b[0m\u001b[1;33m]\u001b[0m\u001b[1;33m,\u001b[0m\u001b[0mautopct\u001b[0m\u001b[1;33m=\u001b[0m\u001b[1;34m'%.0f%%'\u001b[0m\u001b[1;33m,\u001b[0m\u001b[0mshadow\u001b[0m\u001b[1;33m=\u001b[0m\u001b[1;32mTrue\u001b[0m\u001b[1;33m,\u001b[0m \u001b[0mradius\u001b[0m\u001b[1;33m=\u001b[0m\u001b[1;36m1\u001b[0m\u001b[1;33m,\u001b[0m\u001b[0mtextprops\u001b[0m\u001b[1;33m=\u001b[0m\u001b[0mdict\u001b[0m\u001b[1;33m(\u001b[0m\u001b[0mcolor\u001b[0m\u001b[1;33m=\u001b[0m\u001b[1;34m\"w\"\u001b[0m\u001b[1;33m)\u001b[0m\u001b[1;33m)\u001b[0m\u001b[1;33m\u001b[0m\u001b[1;33m\u001b[0m\u001b[0m\n\u001b[0m\u001b[0;32m      3\u001b[0m \u001b[0mplt\u001b[0m\u001b[1;33m.\u001b[0m\u001b[0mtitle\u001b[0m\u001b[1;33m(\u001b[0m\u001b[1;34m'Distribution of particle charges:'\u001b[0m\u001b[1;33m,\u001b[0m\u001b[0mcolor\u001b[0m \u001b[1;33m=\u001b[0m \u001b[1;34m\"white\"\u001b[0m\u001b[1;33m)\u001b[0m\u001b[1;33m\u001b[0m\u001b[1;33m\u001b[0m\u001b[0m\n\u001b[0;32m      4\u001b[0m \u001b[0mplt\u001b[0m\u001b[1;33m.\u001b[0m\u001b[0mshow\u001b[0m\u001b[1;33m(\u001b[0m\u001b[1;33m)\u001b[0m\u001b[1;33m\u001b[0m\u001b[1;33m\u001b[0m\u001b[0m\n",
      "\u001b[1;31mNameError\u001b[0m: name 'particles' is not defined"
     ]
    },
    {
     "data": {
      "text/plain": [
       "<Figure size 432x288 with 0 Axes>"
      ]
     },
     "metadata": {},
     "output_type": "display_data"
    }
   ],
   "source": [
    "plt.figure(1)\n",
    "plt.pie(particles.groupby('q')['vx'].count(), labels=['negative', 'positive'],autopct='%.0f%%',shadow=True, radius=1,textprops=dict(color=\"w\"))\n",
    "plt.title('Distribution of particle charges:',color = \"white\")\n",
    "plt.show()"
   ]
  },
  {
   "cell_type": "markdown",
   "id": "b543df60-0906-49be-bb89-c81c054a89db",
   "metadata": {},
   "source": [
    "### Looking at the detector"
   ]
  },
  {
   "cell_type": "code",
   "execution_count": null,
   "id": "ba0a23d2-70e8-4ddc-9d4a-39ff218c2814",
   "metadata": {},
   "outputs": [],
   "source": [
    "x = data_detectors.cx\n",
    "y = data_detectors.cy\n",
    "z = data_detectors.cz\n",
    "fig = plt.figure(5, figsize = (10,10))\n",
    "ax = plt.axes(projection='3d')\n",
    "ax.scatter3D(z , y ,x, c = y, alpha = 0.5)"
   ]
  },
  {
   "cell_type": "code",
   "execution_count": null,
   "id": "5bf3bd9c-5e3e-4e2b-b790-e8b352d96b77",
   "metadata": {},
   "outputs": [],
   "source": []
  }
 ],
 "metadata": {
  "kernelspec": {
   "display_name": "Python 3 (ipykernel)",
   "language": "python",
   "name": "python3"
  },
  "language_info": {
   "codemirror_mode": {
    "name": "ipython",
    "version": 3
   },
   "file_extension": ".py",
   "mimetype": "text/x-python",
   "name": "python",
   "nbconvert_exporter": "python",
   "pygments_lexer": "ipython3",
   "version": "3.9.7"
  }
 },
 "nbformat": 4,
 "nbformat_minor": 5
}
