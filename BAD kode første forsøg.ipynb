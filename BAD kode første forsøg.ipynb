{
 "cells": [
  {
   "cell_type": "code",
   "execution_count": 1,
   "id": "d0e10272-c099-45b0-bacb-314991c4c90a",
   "metadata": {},
   "outputs": [],
   "source": [
    "import numpy as np \n",
    "import matplotlib.pyplot as plt\n",
    "from mpl_toolkits import mplot3d\n",
    "import pandas as pd\n",
    "import os\n",
    "import trackml\n",
    "import time\n",
    "import math\n",
    "from numba import jit\n",
    "from trackml.dataset import load_event , load_dataset\n",
    "from trackml.score import score_event\n",
    "from scipy.spatial import distance\n",
    "import decimal as d\n"
   ]
  },
  {
   "cell_type": "code",
   "execution_count": null,
   "id": "1f50f5d8-53cb-44bd-b0fc-df317d235290",
   "metadata": {},
   "outputs": [],
   "source": []
  },
  {
   "cell_type": "markdown",
   "id": "72b2c9ee-74f4-4e6f-b2fa-910063c60947",
   "metadata": {},
   "source": [
    "### Importing data"
   ]
  },
  {
   "cell_type": "code",
   "execution_count": 2,
   "id": "984963d4-ac8d-4205-a631-a79facc59767",
   "metadata": {},
   "outputs": [],
   "source": [
    "hits_train_100, cells_train_100, particles_train_100, truth_train_100 = load_event('train_100_events/event000001000')\n",
    "data_detectors = pd.read_csv(r\"detectors.csv\")\n",
    "\n",
    "#print(data_detectors.iloc[:,:1])\n",
    "#print(truth_train_100[0:4])"
   ]
  },
  {
   "cell_type": "code",
   "execution_count": 3,
   "id": "63cd5294-be3f-425b-8d8a-d43ee4cc4216",
   "metadata": {},
   "outputs": [],
   "source": [
    "def func_import_100_sample():\n",
    "    event_id_10 = np.linspace(0,9,10)\n",
    "    event_id_100 = np.linspace(10,99,90)\n",
    "\n",
    "    cells_all = []\n",
    "    hits_all = []\n",
    "    particles_all = []\n",
    "    truth_all = []\n",
    "\n",
    "    for i in range(len(event_id_10)):\n",
    "        cells_all.append(pd.read_csv('train_100_events/event00000100%d-cells.csv' % event_id_10[i]))\n",
    "    for i in range(len(event_id_100)):\n",
    "        cells_all.append(pd.read_csv('train_100_events/event0000010%d-cells.csv' % event_id_100[i]))\n",
    "\n",
    "    for i in range(len(event_id_10)):\n",
    "        hits_all.append(pd.read_csv('train_100_events/event00000100%d-hits.csv' % event_id_10[i]))\n",
    "    for i in range(len(event_id_100)):\n",
    "        hits_all.append(pd.read_csv('train_100_events/event0000010%d-hits.csv' % event_id_100[i]))\n",
    "\n",
    "    for i in range(len(event_id_10)):\n",
    "        particles_all.append(pd.read_csv('train_100_events/event00000100%d-particles.csv' % event_id_10[i]))\n",
    "    for i in range(len(event_id_100)):\n",
    "        particles_all.append(pd.read_csv('train_100_events/event0000010%d-particles.csv' % event_id_100[i]))\n",
    "\n",
    "    for i in range(len(event_id_10)):\n",
    "        truth_all.append(pd.read_csv('train_100_events/event00000100%d-truth.csv' % event_id_10[i]))\n",
    "    for i in range(len(event_id_100)):\n",
    "        truth_all.append(pd.read_csv('train_100_events/event0000010%d-truth.csv' % event_id_100[i]))\n",
    "    return cells_all , hits_all , particles_all , truth_all\n"
   ]
  },
  {
   "cell_type": "code",
   "execution_count": 4,
   "id": "fc52b53b-3bfa-4242-8bcb-f752d7eb3407",
   "metadata": {},
   "outputs": [],
   "source": [
    "# start = time.time()\n",
    "\n",
    "# cells_all = func_import_100_sample()[0]\n",
    "# hits_all = func_import_100_sample()[1]\n",
    "# particles_all = func_import_100_sample()[2]\n",
    "# truth_all = func_import_100_sample()[3]\n",
    "\n",
    "# end = time.time()\n",
    "# run_time = end - start\n",
    "# print(run_time, \"s\")"
   ]
  },
  {
   "cell_type": "markdown",
   "id": "873c44f6-5bc1-4703-94b1-62f0e80608cd",
   "metadata": {
    "tags": []
   },
   "source": [
    "### Making functions"
   ]
  },
  {
   "cell_type": "code",
   "execution_count": 5,
   "id": "12f54992-bc13-4b95-b4a5-de85983ac33e",
   "metadata": {},
   "outputs": [],
   "source": [
    "def func_cleaning_data(cells , hits, particles , truth):\n",
    "    #Finding all hit_id that is noice, to use in other files for removing nocie in them.\n",
    "    def noice(truth):\n",
    "        truth_hit_id_noice = [truth.hit_id[i] for i in range(len(truth)) if truth.particle_id[i] == 0]\n",
    "        return truth_hit_id_noice\n",
    "    truth_hit_id_noice_list = noice(truth)\n",
    "    #Removing all the noice in the truth file:\n",
    "    truth_zero_noice = truth.drop(truth.index[truth['particle_id'] == 0]).reset_index()\n",
    "    #Removing all the data where the nhits is >=3 :\n",
    "    particles_zero_noice = particles.drop(particles.index[particles['nhits'] <= 3]).reset_index()\n",
    "    #Sorting the particles\n",
    "    particles_zero_noice_sorted_unique = particles_zero_noice.sort_values(by = \"particle_id\",ascending=True)\n",
    "    #Making a function that can remove all row that has a value in a list\n",
    "    def FRBV(file_name, column_name, list_of_values):\n",
    "        return file_name[~file_name[column_name].isin(list_of_values)]\n",
    "    #Removing all the noice in the cells file:\n",
    "    cells_zero_noice = FRBV(cells , \"hit_id\" , truth_hit_id_noice_list).reset_index()\n",
    "    #Removing all the noice in the hits file:\n",
    "    hits_zero_noice = FRBV(hits , \"hit_id\" , truth_hit_id_noice_list).reset_index()\n",
    "    #Making a function that can remove all the data, that has a nhits over 7.\n",
    "    def nhit_over_7(data):\n",
    "        data = [data.particle_id[i] for i in range(len(data)) if data.nhits[i] > 7]\n",
    "        return data\n",
    "    #Removing all the data where nhits is less then 7\n",
    "    particle_id_with_nhits_over_7 = nhit_over_7(particles_zero_noice_sorted_unique)\n",
    "    #Removing all the data where nhits is over then 7\n",
    "    particle_id_with_nhits_lees_7 = FRBV(particles_zero_noice_sorted_unique , \"particle_id\" , particle_id_with_nhits_over_7).drop(\"index\",axis = 1).reset_index().drop(\"index\",axis = 1)\n",
    "    #Removing all the data where a particle_id has more then 7 nhits.\n",
    "    truth_zero_noice_nhits_lees_7 = FRBV(truth_zero_noice , \"particle_id\" , particle_id_with_nhits_over_7).drop(\"index\",axis = 1).reset_index().drop(\"index\",axis = 1)\n",
    "    #Making a function that can make a list of the hit_ids that has a weight of 0.\n",
    "    def weight_equle_0(data):\n",
    "        data = [data.hit_id[i] for i in range(len(data)) if data.weight[i] == 0]\n",
    "        return data\n",
    "    #Using the weight_equle_0 function to make a list of hit_id´s that has a weight equle 0\n",
    "    truth_weight_0_list = weight_equle_0(truth_zero_noice_nhits_lees_7)\n",
    "    #Using the list of hit_id´s that has a weight equle 0, to remove the rows in truth that has that hit_id.\n",
    "    truth_zero_noice_nhits_lees_7_weight_0 = FRBV(truth_zero_noice_nhits_lees_7,\"hit_id\",truth_weight_0_list).reset_index().drop(\"index\",axis = 1)\n",
    "    \n",
    "    #Removing the data where the particle_id has less then 7 nhits.\n",
    "    truth_zero_noice_nhits_over_7 = FRBV(truth_zero_noice , \"particle_id\" ,truth_zero_noice_nhits_lees_7.particle_id).drop(\"index\",axis = 1).reset_index().drop(\"index\",axis = 1)\n",
    "    #Removing the data where the hit_id has less the 7 nhits.\n",
    "    hits_zero_noice_nhits_lees_7 = FRBV(hits_zero_noice, \"hit_id\",truth_zero_noice_nhits_over_7[\"hit_id\"]).drop(\"index\",axis = 1).reset_index().drop(\"index\",axis = 1)\n",
    "    #Making a list of all the particle_ids that has over 3 nhits\n",
    "    particles_id_over_3 = [particles.particle_id[i] for i in range(len(particles)) if particles.nhits[i] > 3]\n",
    "    #Removing all the data in truth that has less the 3 nhits. Used for later in cells and hits.  \n",
    "    truth_zero_noice_over_3 = FRBV(truth_zero_noice,\"particle_id\",particles_id_over_3).drop(\"index\",axis = 1).reset_index().drop(\"index\",axis = 1)\n",
    "    #Removing all the data in hits that has over the 3 nhits.\n",
    "    hits_zero_noice_nhits_lees_7_over_3_with_weight_0 = FRBV(hits_zero_noice_nhits_lees_7,\"hit_id\",truth_zero_noice_over_3.hit_id).reset_index().drop(\"index\",axis = 1)\n",
    "    #Making a list of hit_id that is not in truth but is in hits\n",
    "    hit_id_in_hits_but_not_in_truth = FRBV(hits_zero_noice_nhits_lees_7_over_3_with_weight_0,\"hit_id\",truth_zero_noice_nhits_lees_7_weight_0.hit_id).reset_index().drop(\"index\",axis = 1)\n",
    "    #Using that hits not in truth, and then removing them from hits. \n",
    "    hits_zero_noice_nhits_lees_7_over_3_without_weight_0 = FRBV(hits_zero_noice_nhits_lees_7_over_3_with_weight_0,\"hit_id\",hit_id_in_hits_but_not_in_truth.hit_id).reset_index().drop(\"index\",axis = 1)\n",
    "\n",
    "    #Removing the data where the hit_id has less the 7 nhits.\n",
    "    cells_zero_noice_nhits_lees_7 = FRBV(cells_zero_noice, \"hit_id\",truth_zero_noice_nhits_over_7[\"hit_id\"]).drop(\"index\",axis = 1).reset_index().drop(\"index\",axis = 1)\n",
    "    #Removing all the data in cells that has over the 3 nhits.\n",
    "    cells_zero_noice_nhits_lees_7_over_3_with_weight_0 = FRBV(cells_zero_noice_nhits_lees_7,\"hit_id\",truth_zero_noice_over_3.hit_id).reset_index().drop(\"index\",axis = 1)\n",
    "    #Making a list of hit_id that is not in truth but is in cells\n",
    "    hit_id_in_cells_but_not_in_truth = FRBV(cells_zero_noice_nhits_lees_7_over_3_with_weight_0,\"hit_id\",truth_zero_noice_nhits_lees_7_weight_0.hit_id).reset_index().drop(\"index\",axis = 1)\n",
    "    #Using that cells hit_id not in truth, and then removing them from cells.\n",
    "    cells_zero_noice_nhits_lees_7_over_3_without_weight_0 = FRBV(cells_zero_noice_nhits_lees_7_over_3_with_weight_0,\"hit_id\",hit_id_in_cells_but_not_in_truth.hit_id).reset_index().drop(\"index\",axis = 1)\n",
    "    \n",
    "    return cells_zero_noice_nhits_lees_7_over_3_without_weight_0 , hits_zero_noice_nhits_lees_7_over_3_without_weight_0 , particle_id_with_nhits_lees_7 , truth_zero_noice_nhits_lees_7_weight_0"
   ]
  },
  {
   "cell_type": "code",
   "execution_count": 6,
   "id": "2735ef1d-d3ab-4d08-a880-b04ce29cf268",
   "metadata": {},
   "outputs": [
    {
     "name": "stdout",
     "output_type": "stream",
     "text": [
      "1.3241 s\n"
     ]
    }
   ],
   "source": [
    "Start = time.time()\n",
    "\n",
    "cells , hits , particles, truth = func_cleaning_data(cells_train_100,hits_train_100,particles_train_100,truth_train_100)\n",
    "\n",
    "end = time.time()\n",
    "run_time = end - Start\n",
    "print(round(run_time,4), \"s\")"
   ]
  },
  {
   "cell_type": "code",
   "execution_count": 7,
   "id": "8b799228-d9b4-4622-829a-f7568845cbee",
   "metadata": {},
   "outputs": [
    {
     "name": "stdout",
     "output_type": "stream",
     "text": [
      "56883 7265 1323 7265\n"
     ]
    }
   ],
   "source": [
    "print(len(cells),len(hits),len(particles),len(truth))\n",
    "\n"
   ]
  },
  {
   "cell_type": "code",
   "execution_count": 16,
   "id": "96871040-9e33-402d-8b8c-3815a65ec2cd",
   "metadata": {},
   "outputs": [
    {
     "name": "stdout",
     "output_type": "stream",
     "text": [
      "      hit_id           x           y       z  volume_id  layer_id  module_id\n",
      "0        206 -118.573997 -122.498001 -1502.0          7         2         15\n",
      "1        498   72.551003  -94.188499 -1498.0          7         2         38\n",
      "2        532   72.722801  -94.425003 -1502.0          7         2         40\n",
      "3        552   44.314999  -28.215500 -1497.5          7         2         42\n",
      "4        579   44.448200  -28.322701 -1502.5          7         2         44\n",
      "...      ...         ...         ...     ...        ...       ...        ...\n",
      "7260  120791  246.906006  919.896973  2952.5         18        12         70\n",
      "7261  120808   85.988800  844.984985  2944.5         18        12         73\n",
      "7262  120843 -337.717987  791.450989  2944.5         18        12         81\n",
      "7263  120854 -477.261993  812.588989  2952.5         18        12         82\n",
      "7264  120901 -772.278992  353.083008  2947.5         18        12         91\n",
      "\n",
      "[7265 rows x 7 columns]\n",
      "      hit_id         particle_id          tx          ty      tz       tpx  \\\n",
      "0        206  734116219916910592 -118.570000 -122.515999 -1502.0 -0.639702   \n",
      "1        498  409840897669201920   72.539597  -94.178299 -1498.0  0.371663   \n",
      "2        532  409840897669201920   72.707603  -94.443100 -1502.0  0.372535   \n",
      "3        552  328769301148336128   44.321800  -28.191299 -1497.5  0.276163   \n",
      "4        579  328769301148336128   44.463902  -28.333200 -1502.5  0.276819   \n",
      "...      ...                 ...         ...         ...     ...       ...   \n",
      "7260  120791  657537021765488641  247.227005  921.237000  2952.5  0.101673   \n",
      "7261  120808  797151290273566721   85.814697  842.112976  2944.5 -0.039985   \n",
      "7262  120843  968287938674692097 -336.773010  789.517029  2944.5 -0.093549   \n",
      "7263  120854  144116356323741697 -478.971985  815.791016  2952.5 -0.312255   \n",
      "7264  120901  238691673620619266 -776.697998  355.274994  2947.5 -0.038987   \n",
      "\n",
      "           tpy       tpz    weight  \n",
      "0    -0.707372 -8.302040  0.000015  \n",
      "1    -0.586782 -8.871780  0.000012  \n",
      "2    -0.587447 -8.871220  0.000018  \n",
      "3    -0.276955 -9.740100  0.000009  \n",
      "4    -0.275671 -9.739620  0.000017  \n",
      "...        ...       ...       ...  \n",
      "7260  0.127344  0.232226  0.000014  \n",
      "7261  0.097445  0.123474  0.000020  \n",
      "7262  0.044940  0.143234  0.000020  \n",
      "7263  0.209192  0.310271  0.000020  \n",
      "7264  0.111237  0.114289  0.000012  \n",
      "\n",
      "[7265 rows x 9 columns]\n"
     ]
    }
   ],
   "source": [
    "print(hits)\n",
    "print(truth)"
   ]
  },
  {
   "cell_type": "code",
   "execution_count": 8,
   "id": "b4054e22-db00-4351-99f1-a07db2cd7595",
   "metadata": {},
   "outputs": [
    {
     "name": "stdout",
     "output_type": "stream",
     "text": [
      "5318    4504424277872641\n",
      "5355    4504424277872641\n",
      "5971    4504424277872641\n",
      "6598    4504424277872641\n",
      "6599    4504424277872641\n",
      "Name: particle_id, dtype: int64 5318   -454.404999\n",
      "5355   -451.477997\n",
      "5971   -620.114014\n",
      "6598   -851.799011\n",
      "6599   -844.419006\n",
      "Name: x, dtype: float32 5318    213.024002\n",
      "5355    212.059006\n",
      "5971    220.647995\n",
      "6598   -258.533997\n",
      "6599   -282.459991\n",
      "Name: y, dtype: float32 5318    -359.799988\n",
      "5355    -360.799988\n",
      "5971    -314.399994\n",
      "6598   -1225.500000\n",
      "6599   -1217.500000\n",
      "Name: z, dtype: float32\n",
      "0.86084 s\n"
     ]
    }
   ],
   "source": [
    "Start = time.time()\n",
    "\n",
    "hits_new = hits.merge(truth, how='left', on='hit_id')\n",
    "\n",
    "\n",
    "\n",
    "\n",
    "#hits_new = hits_new.sort_values(by = [\"particle_id\",\"volume_id\"],ascending=True)\n",
    "\n",
    "#hits_new = hits_new[[ \"hit_id\",\"particle_id\" ,\"volume_id\", \"layer_id\"]]\n",
    "\n",
    "#print(hits_new.loc[hits_new['particle_id'] == 734116219916910592])\n",
    "\n",
    "\n",
    "asd = []\n",
    "for i in range(len(np.unique(hits_new['particle_id']))):\n",
    "    asd.append(hits_new.loc[hits_new['particle_id'] == np.unique(hits_new['particle_id'])[i]])\n",
    "\n",
    "asd = np.array(asd,dtype=object)\n",
    "print(asd[0].particle_id,asd[0].x,asd[0].y,asd[0].z)\n",
    "\n",
    "\n",
    "end = time.time()\n",
    "run_time = end - Start\n",
    "print(round(run_time,5), \"s\")"
   ]
  },
  {
   "cell_type": "markdown",
   "id": "b8b963ee-d989-4fb3-9f7b-1f55b5554c2e",
   "metadata": {
    "tags": []
   },
   "source": [
    "### Calling data cleaning data"
   ]
  },
  {
   "cell_type": "code",
   "execution_count": 9,
   "id": "942e5cee-3faf-4212-943f-182c4ca332e9",
   "metadata": {},
   "outputs": [],
   "source": [
    "# Start = time.time()\n",
    "\n",
    "# for i in range(100):\n",
    "#     cells_all_clean , hits_all_clean , particles_all_clean, truth_all_clean  = func_cleaning_data(cells_all[i],hits_all[i],particles_all[i],truth_all[i])\n",
    "\n",
    "# end = time.time()\n",
    "# run_time = end - Start\n",
    "# print(round(run_time,4), \"s\")"
   ]
  },
  {
   "cell_type": "code",
   "execution_count": 10,
   "id": "dc6d9741-08a0-4073-a6a7-809c51b4d126",
   "metadata": {},
   "outputs": [
    {
     "name": "stdout",
     "output_type": "stream",
     "text": [
      "0.0029916763305664062 s\n"
     ]
    }
   ],
   "source": [
    "Start = time.time()\n",
    "\n",
    "def car_to_cyl_cood(x,y,z):\n",
    "    r = np.sqrt(x**2 + y**2)\n",
    "    phi = np.arctan2(y,x)\n",
    "    z = z\n",
    "    return r , phi , z \n",
    "\n",
    "r_hits , phi_hits , z_hits = car_to_cyl_cood(hits.x,hits.y,hits.z)\n",
    "r_truth , phi_truth , z_truth = car_to_cyl_cood(truth.tx,truth.ty,truth.tz)\n",
    "\n",
    "\n",
    "end = time.time()\n",
    "run_time = end - Start\n",
    "print(run_time, \"s\")"
   ]
  },
  {
   "cell_type": "code",
   "execution_count": null,
   "id": "1834c14f-806a-49d5-8961-92c6d43ecab5",
   "metadata": {},
   "outputs": [],
   "source": []
  },
  {
   "cell_type": "code",
   "execution_count": 11,
   "id": "d5d77f4d-6740-4768-ab60-549abfb38cd4",
   "metadata": {},
   "outputs": [
    {
     "name": "stdout",
     "output_type": "stream",
     "text": [
      "7264\n",
      "-4.427437782287598 4.306934356689453\n",
      "-8.569178239140252 9.096890895613484\n"
     ]
    }
   ],
   "source": [
    "def edge_feat(r,phi,z):\n",
    "    r = list(r)\n",
    "    phi = list(phi)\n",
    "    z = list(z)\n",
    "    dphi = []\n",
    "    z_0 = []\n",
    "    delta_phi = []\n",
    "    eta = [] # the pseudoangular\n",
    "    delta_eta = []\n",
    "    delta_z = []\n",
    "    for i in range(len(phi)):\n",
    "        eta.append(-np.log(abs(math.tan(phi[i])/2)))\n",
    "    for i in range(0,len(r)-1): #i=1  , i=2\n",
    "        for k in range(1,len(r)): #k=1-len(r) ,k=1-len(r)\n",
    "            dp = phi[k] - phi[i]\n",
    "            delta_phi.append(dp)\n",
    "            delta_eta_values = eta[k] - eta[i]\n",
    "            delta_eta.append(delta_eta_values)\n",
    "            delta_z_values = z[k] - z[i]\n",
    "            delta_z.append(delta_z_values)\n",
    "            dr = r[k] - r[i]\n",
    "            dpi = dp/dr\n",
    "            z0 = z[i] - r[i]*((z[k] - z[i])/(r[k]-r[i]))\n",
    "            if abs(dpi) < 0.0006 and abs(z0) < 200:\n",
    "                dphi.append(dpi)\n",
    "                z_0.append(z0)\n",
    "        return dphi, z_0 , eta , delta_phi , delta_eta, delta_z\n",
    "\n",
    "\n",
    "dphi, z_0 , eta , delta_phi , delta_eta, delta_z = edge_feat(r_truth,phi_truth,z_truth)\n",
    "\n",
    "def delta_R(delta_eta,delta_phi):\n",
    "    delta_R = []\n",
    "    for i in range(len(delta_eta)):\n",
    "        delta_R.append((delta_eta[i]**2 + delta_phi[i]**2)**(1/2))\n",
    "    return delta_R\n",
    "\n",
    "print(len(delta_R(delta_eta,delta_phi)))\n",
    "\n",
    "def calc_eta(r, z):\n",
    "    theta = np.arctan2(r, z)\n",
    "    return -1. * np.log(np.tan(theta / 2.))\n",
    "\n",
    "# def calc_eta2(phi):\n",
    "#     return -1. * np.log(np.tan(phi / 2.))\n",
    "\n",
    "\n",
    "print(min(calc_eta(r_truth, z_truth)),max(calc_eta(r_truth, z_truth)))\n",
    "# print(min(calc_eta2(phi_truth)),max(calc_eta2(phi_truth)))\n",
    "print(min(eta),max(eta))"
   ]
  },
  {
   "cell_type": "code",
   "execution_count": 13,
   "id": "1f2c88b4-62eb-45e2-bcf3-0c85c5c35eaf",
   "metadata": {},
   "outputs": [
    {
     "name": "stdout",
     "output_type": "stream",
     "text": [
      "5318    4504424277872641\n",
      "5355    4504424277872641\n",
      "5971    4504424277872641\n",
      "6598    4504424277872641\n",
      "6599    4504424277872641\n",
      "Name: particle_id, dtype: int64 5318   -454.404999\n",
      "5355   -451.477997\n",
      "5971   -620.114014\n",
      "6598   -851.799011\n",
      "6599   -844.419006\n",
      "Name: x, dtype: float32 5318    213.024002\n",
      "5355    212.059006\n",
      "5971    220.647995\n",
      "6598   -258.533997\n",
      "6599   -282.459991\n",
      "Name: y, dtype: float32 5318    -359.799988\n",
      "5355    -360.799988\n",
      "5971    -314.399994\n",
      "6598   -1225.500000\n",
      "6599   -1217.500000\n",
      "Name: z, dtype: float32\n"
     ]
    }
   ],
   "source": [
    "asd = []\n",
    "for i in range(len(np.unique(hits_new['particle_id']))):\n",
    "    asd.append(hits_new.loc[hits_new['particle_id'] == np.unique(hits_new['particle_id'])[i]])\n",
    "\n",
    "asd = np.array(asd,dtype=object)\n",
    "print(asd[0].particle_id,asd[0].x,asd[0].y,asd[0].z)"
   ]
  },
  {
   "cell_type": "code",
   "execution_count": 14,
   "id": "3ff58880-8ca6-4407-94e0-f3f335482b64",
   "metadata": {},
   "outputs": [
    {
     "data": {
      "text/html": [
       "<div>\n",
       "<style scoped>\n",
       "    .dataframe tbody tr th:only-of-type {\n",
       "        vertical-align: middle;\n",
       "    }\n",
       "\n",
       "    .dataframe tbody tr th {\n",
       "        vertical-align: top;\n",
       "    }\n",
       "\n",
       "    .dataframe thead th {\n",
       "        text-align: right;\n",
       "    }\n",
       "</style>\n",
       "<table border=\"1\" class=\"dataframe\">\n",
       "  <thead>\n",
       "    <tr style=\"text-align: right;\">\n",
       "      <th></th>\n",
       "      <th>hit_id</th>\n",
       "      <th>x</th>\n",
       "      <th>y</th>\n",
       "      <th>z</th>\n",
       "      <th>volume_id</th>\n",
       "      <th>layer_id</th>\n",
       "      <th>module_id</th>\n",
       "      <th>particle_id</th>\n",
       "      <th>tx</th>\n",
       "      <th>ty</th>\n",
       "      <th>tz</th>\n",
       "      <th>tpx</th>\n",
       "      <th>tpy</th>\n",
       "      <th>tpz</th>\n",
       "      <th>weight</th>\n",
       "    </tr>\n",
       "  </thead>\n",
       "  <tbody>\n",
       "    <tr>\n",
       "      <th>5318</th>\n",
       "      <td>86943</td>\n",
       "      <td>-454.404999</td>\n",
       "      <td>213.024002</td>\n",
       "      <td>-359.799988</td>\n",
       "      <td>13</td>\n",
       "      <td>6</td>\n",
       "      <td>541</td>\n",
       "      <td>4504424277872641</td>\n",
       "      <td>-454.397003</td>\n",
       "      <td>213.037003</td>\n",
       "      <td>-359.854004</td>\n",
       "      <td>0.187210</td>\n",
       "      <td>-0.058768</td>\n",
       "      <td>-0.051357</td>\n",
       "      <td>0.000017</td>\n",
       "    </tr>\n",
       "    <tr>\n",
       "      <th>5355</th>\n",
       "      <td>87286</td>\n",
       "      <td>-451.477997</td>\n",
       "      <td>212.059006</td>\n",
       "      <td>-360.799988</td>\n",
       "      <td>13</td>\n",
       "      <td>6</td>\n",
       "      <td>619</td>\n",
       "      <td>4504424277872641</td>\n",
       "      <td>-451.453003</td>\n",
       "      <td>212.097000</td>\n",
       "      <td>-360.662994</td>\n",
       "      <td>0.186594</td>\n",
       "      <td>-0.059995</td>\n",
       "      <td>-0.051656</td>\n",
       "      <td>0.000009</td>\n",
       "    </tr>\n",
       "    <tr>\n",
       "      <th>5971</th>\n",
       "      <td>93476</td>\n",
       "      <td>-620.114014</td>\n",
       "      <td>220.647995</td>\n",
       "      <td>-314.399994</td>\n",
       "      <td>13</td>\n",
       "      <td>8</td>\n",
       "      <td>811</td>\n",
       "      <td>4504424277872641</td>\n",
       "      <td>-620.111023</td>\n",
       "      <td>220.654007</td>\n",
       "      <td>-314.825012</td>\n",
       "      <td>0.194471</td>\n",
       "      <td>0.037230</td>\n",
       "      <td>-0.051029</td>\n",
       "      <td>0.000029</td>\n",
       "    </tr>\n",
       "    <tr>\n",
       "      <th>6598</th>\n",
       "      <td>107111</td>\n",
       "      <td>-851.799011</td>\n",
       "      <td>-258.533997</td>\n",
       "      <td>-1225.500000</td>\n",
       "      <td>16</td>\n",
       "      <td>12</td>\n",
       "      <td>5</td>\n",
       "      <td>4504424277872641</td>\n",
       "      <td>-854.073975</td>\n",
       "      <td>-259.233002</td>\n",
       "      <td>-1225.500000</td>\n",
       "      <td>-0.085292</td>\n",
       "      <td>0.165477</td>\n",
       "      <td>-0.059998</td>\n",
       "      <td>0.000017</td>\n",
       "    </tr>\n",
       "    <tr>\n",
       "      <th>6599</th>\n",
       "      <td>107117</td>\n",
       "      <td>-844.419006</td>\n",
       "      <td>-282.459991</td>\n",
       "      <td>-1217.500000</td>\n",
       "      <td>16</td>\n",
       "      <td>12</td>\n",
       "      <td>6</td>\n",
       "      <td>4504424277872641</td>\n",
       "      <td>-841.767029</td>\n",
       "      <td>-281.515015</td>\n",
       "      <td>-1217.500000</td>\n",
       "      <td>-0.097869</td>\n",
       "      <td>0.162592</td>\n",
       "      <td>-0.057692</td>\n",
       "      <td>0.000009</td>\n",
       "    </tr>\n",
       "  </tbody>\n",
       "</table>\n",
       "</div>"
      ],
      "text/plain": [
       "      hit_id           x           y            z  volume_id  layer_id  \\\n",
       "5318   86943 -454.404999  213.024002  -359.799988         13         6   \n",
       "5355   87286 -451.477997  212.059006  -360.799988         13         6   \n",
       "5971   93476 -620.114014  220.647995  -314.399994         13         8   \n",
       "6598  107111 -851.799011 -258.533997 -1225.500000         16        12   \n",
       "6599  107117 -844.419006 -282.459991 -1217.500000         16        12   \n",
       "\n",
       "      module_id       particle_id          tx          ty           tz  \\\n",
       "5318        541  4504424277872641 -454.397003  213.037003  -359.854004   \n",
       "5355        619  4504424277872641 -451.453003  212.097000  -360.662994   \n",
       "5971        811  4504424277872641 -620.111023  220.654007  -314.825012   \n",
       "6598          5  4504424277872641 -854.073975 -259.233002 -1225.500000   \n",
       "6599          6  4504424277872641 -841.767029 -281.515015 -1217.500000   \n",
       "\n",
       "           tpx       tpy       tpz    weight  \n",
       "5318  0.187210 -0.058768 -0.051357  0.000017  \n",
       "5355  0.186594 -0.059995 -0.051656  0.000009  \n",
       "5971  0.194471  0.037230 -0.051029  0.000029  \n",
       "6598 -0.085292  0.165477 -0.059998  0.000017  \n",
       "6599 -0.097869  0.162592 -0.057692  0.000009  "
      ]
     },
     "execution_count": 14,
     "metadata": {},
     "output_type": "execute_result"
    }
   ],
   "source": [
    "asd[0]"
   ]
  },
  {
   "cell_type": "code",
   "execution_count": 12,
   "id": "530a0968-0ea9-42d0-8ab9-642c8de15241",
   "metadata": {},
   "outputs": [
    {
     "ename": "SyntaxError",
     "evalue": "invalid syntax (Temp/ipykernel_7960/3761583642.py, line 1)",
     "output_type": "error",
     "traceback": [
      "\u001b[1;36m  File \u001b[1;32m\"C:\\Users\\nicol\\AppData\\Local\\Temp/ipykernel_7960/3761583642.py\"\u001b[1;36m, line \u001b[1;32m1\u001b[0m\n\u001b[1;33m    def nodes_and_features(r)\u001b[0m\n\u001b[1;37m                             ^\u001b[0m\n\u001b[1;31mSyntaxError\u001b[0m\u001b[1;31m:\u001b[0m invalid syntax\n"
     ]
    }
   ],
   "source": [
    "\n",
    "def nodes_and_features(r)\n",
    "\n",
    "\n",
    "\n"
   ]
  },
  {
   "cell_type": "markdown",
   "id": "4defc32d-e430-4843-a39a-f05dfadf3296",
   "metadata": {
    "tags": []
   },
   "source": [
    "### Kigger på data"
   ]
  },
  {
   "cell_type": "markdown",
   "id": "b5be89cb-e1b8-435a-904e-b284a3a6c6e4",
   "metadata": {},
   "source": [
    "### Ploting data pre GNN"
   ]
  },
  {
   "cell_type": "code",
   "execution_count": null,
   "id": "78f32cb3-997e-487c-a41a-ee1b4ec24519",
   "metadata": {},
   "outputs": [],
   "source": [
    "def plotting_data(data_rough,data_clean):\n",
    "    XYZ_rough = [[],[],[]]\n",
    "    XYZ_clean = [[],[],[]]\n",
    "    for i, idx in enumerate(range(len(data_rough.x))):\n",
    "        if abs(data_rough.z[i]) < 2000:\n",
    "            XYZ_rough[0].append((data_rough.x[idx]))\n",
    "            XYZ_rough[1].append((data_rough.y[idx]))\n",
    "            XYZ_rough[2].append((data_rough.z[idx]))\n",
    "    print(len(XYZ_rough[0]), len(XYZ_rough[1]), len(XYZ_rough[2]))\n",
    "\n",
    "    for i, idx in enumerate(range(len(data_clean.x))):\n",
    "        if abs(data_clean.z[i]) < 2000:\n",
    "            XYZ_clean[0].append((data_clean.x[idx]))\n",
    "            XYZ_clean[1].append((data_clean.y[idx]))\n",
    "            XYZ_clean[2].append((data_clean.z[idx]))\n",
    "    print(len(XYZ_clean[0]), len(XYZ_clean[1]), len(XYZ_clean[2]))\n",
    "    return XYZ_rough , XYZ_clean\n",
    "\n",
    "XYZ_rough , XYZ_clean = plotting_data(hits_train_100,hits)"
   ]
  },
  {
   "cell_type": "code",
   "execution_count": null,
   "id": "4cd1cdaa-000c-452a-b21d-1068074182c0",
   "metadata": {},
   "outputs": [],
   "source": [
    "zoom = 2000\n",
    "figsize = 5\n",
    "alpha = 0.35\n",
    "\n",
    "fig = plt.figure(1, figsize = (figsize,figsize))\n",
    "ax = plt.axes(projection='3d')\n",
    "ax.scatter3D(XYZ_rough[0],XYZ_rough[1],XYZ_rough[2], c = XYZ_rough[0], alpha = alpha)\n",
    "plt.xlim(-zoom,zoom)\n",
    "plt.ylim(-zoom,zoom)\n",
    "ax.set_zlim(-zoom,zoom)\n",
    "\n",
    "\n",
    "fig = plt.figure(2, figsize = (figsize,figsize))\n",
    "ax = plt.axes(projection='3d')\n",
    "ax.scatter3D(XYZ_clean[0],XYZ_clean[1],XYZ_clean[2], c = XYZ_clean[0] , alpha = alpha)\n",
    "plt.xlim(-zoom,zoom)\n",
    "plt.ylim(-zoom,zoom)\n",
    "ax.set_zlim(-zoom,zoom)"
   ]
  },
  {
   "cell_type": "code",
   "execution_count": null,
   "id": "1cd614f8-eda5-4e42-9339-3d13709120ee",
   "metadata": {},
   "outputs": [],
   "source": [
    "plt.figure(1)\n",
    "plt.pie(particles.groupby('q')['vx'].count(), labels=['negative', 'positive'],autopct='%.0f%%',shadow=True, radius=1,textprops=dict(color=\"w\"))\n",
    "plt.title('Distribution of particle charges:',color = \"white\")\n",
    "plt.show()"
   ]
  },
  {
   "cell_type": "markdown",
   "id": "b543df60-0906-49be-bb89-c81c054a89db",
   "metadata": {},
   "source": [
    "### Looking at the detector"
   ]
  },
  {
   "cell_type": "code",
   "execution_count": null,
   "id": "ba0a23d2-70e8-4ddc-9d4a-39ff218c2814",
   "metadata": {},
   "outputs": [],
   "source": [
    "x = data_detectors.cx\n",
    "y = data_detectors.cy\n",
    "z = data_detectors.cz\n",
    "fig = plt.figure(5, figsize = (10,10))\n",
    "ax = plt.axes(projection='3d')\n",
    "ax.scatter3D(z , y ,x, c = y, alpha = 0.5)"
   ]
  },
  {
   "cell_type": "code",
   "execution_count": null,
   "id": "5bf3bd9c-5e3e-4e2b-b790-e8b352d96b77",
   "metadata": {},
   "outputs": [],
   "source": []
  }
 ],
 "metadata": {
  "kernelspec": {
   "display_name": "Python 3 (ipykernel)",
   "language": "python",
   "name": "python3"
  },
  "language_info": {
   "codemirror_mode": {
    "name": "ipython",
    "version": 3
   },
   "file_extension": ".py",
   "mimetype": "text/x-python",
   "name": "python",
   "nbconvert_exporter": "python",
   "pygments_lexer": "ipython3",
   "version": "3.9.7"
  }
 },
 "nbformat": 4,
 "nbformat_minor": 5
}
