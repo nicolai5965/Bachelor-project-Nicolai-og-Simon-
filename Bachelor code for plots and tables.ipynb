{
 "cells": [
  {
   "cell_type": "markdown",
   "id": "5af4b7c8-1a66-4568-a7d3-9c4c91dad5f6",
   "metadata": {
    "tags": []
   },
   "source": [
    "## Importing packages"
   ]
  },
  {
   "cell_type": "code",
   "execution_count": 1,
   "id": "81c510ca-9852-411c-a5ac-50aca039b29b",
   "metadata": {},
   "outputs": [],
   "source": [
    "import numpy as np \n",
    "import matplotlib.pyplot as plt\n",
    "import pandas as pd\n",
    "import os\n",
    "import time\n",
    "import math\n",
    "from collections import Counter\n"
   ]
  },
  {
   "cell_type": "markdown",
   "id": "321b1d46-88be-4085-b80e-3d4c0940a8bb",
   "metadata": {},
   "source": [
    "## Importing data"
   ]
  },
  {
   "cell_type": "code",
   "execution_count": 2,
   "id": "9dcae0a4-c3df-418a-96eb-4e3b7c8b2e38",
   "metadata": {},
   "outputs": [],
   "source": [
    "def func_import_100_sample(events_called):\n",
    "    hits = []\n",
    "    cells = []\n",
    "    particles = []\n",
    "    truth = []\n",
    "    for i in range(0,events_called):# append datasets into the list\n",
    "        if i < 10:\n",
    "            temp_df = pd.read_csv('train_100_events/event00000100%d-hits.csv' % i)\n",
    "            #c_c = pd.read_csv('train_100_events/event00000100%d-cells.csv'% i )\n",
    "            p_c = pd.read_csv('train_100_events/event00000100%d-particles.csv'% i)\n",
    "            t_c = pd.read_csv('train_100_events/event00000100%d-truth.csv'% i)\n",
    "            hits.append(temp_df)\n",
    "            #cells.append(c_c)\n",
    "            particles.append(p_c)\n",
    "            truth.append(t_c)\n",
    "        if i >= 10:\n",
    "            temp_df = pd.read_csv('train_100_events/event0000010%d-hits.csv' % i)\n",
    "            #c_c = pd.read_csv('train_100_events/event0000010%d-cells.csv'% i )\n",
    "            p_c = pd.read_csv('train_100_events/event0000010%d-particles.csv'% i)\n",
    "            t_c = pd.read_csv('train_100_events/event0000010%d-truth.csv'% i)\n",
    "            #cells.append(c_c)\n",
    "            hits.append(temp_df)\n",
    "            particles.append(p_c)\n",
    "            truth.append(t_c)\n",
    "    return cells , hits , particles , truth"
   ]
  },
  {
   "cell_type": "code",
   "execution_count": 3,
   "id": "014affa0-d353-4867-ab4b-8b837f77015e",
   "metadata": {},
   "outputs": [
    {
     "name": "stdout",
     "output_type": "stream",
     "text": [
      "100\n",
      "Wall time: 17 s\n"
     ]
    }
   ],
   "source": [
    "%%time\n",
    "events_called = 100\n",
    "cells_all , hits_all , particles_all , truth_all = func_import_100_sample(events_called)\n",
    "data_detectors = pd.read_csv(r\"detectors.csv\")\n",
    "\n",
    "print(len(particles_all))\n"
   ]
  },
  {
   "cell_type": "markdown",
   "id": "c7003ae2-e70d-4c6f-842a-ed28a0355a02",
   "metadata": {
    "tags": []
   },
   "source": [
    "## Function that filters the data"
   ]
  },
  {
   "cell_type": "code",
   "execution_count": 4,
   "id": "0e4c1f36-81e8-43c7-a8f9-c73593c2367d",
   "metadata": {},
   "outputs": [
    {
     "name": "stdout",
     "output_type": "stream",
     "text": [
      "Wall time: 0 ns\n"
     ]
    }
   ],
   "source": [
    "%%time\n",
    "def func_cleaning_data( hits, particles , truth, pt_cut_start, pt_cut_end):\n",
    " \n",
    "    def noice(truth):#Finding all hit_id that is noice, to use in other files for removing nocie in them.\n",
    "        truth_hit_id_noice = [truth.hit_id[i] for i in range(len(truth)) if truth.particle_id[i] == 0]\n",
    "        return truth_hit_id_noice\n",
    "    truth_hit_id_noice_list = noice(truth)\n",
    "    truth_zero_noice = truth.drop(truth.index[truth['particle_id'] == 0]).reset_index() #Removing all the noice in the truth file:\n",
    "    particles_zero_noice = particles.drop(particles.index[particles['nhits'] <= 3]).reset_index()#Removing all the data where the nhits is >=3 :\n",
    "    particles_zero_noice_sorted_unique = particles_zero_noice.sort_values(by = \"particle_id\",ascending=True)#Sorting the particles\n",
    "    def FRBV(file_name, column_name, list_of_values): #Making a function that can remove all row that has a value in a list\n",
    "        return file_name[~file_name[column_name].isin(list_of_values)]\n",
    "    hits_volume_filtered = hits.drop(hits[(hits.volume_id != 8) & (hits.volume_id != 13) & (hits.volume_id !=17)].index)#Removing all that are not in volume 8 , 13 and 17\n",
    "    hits_zero_noice = FRBV(hits_volume_filtered , \"hit_id\" , truth_hit_id_noice_list).reset_index()    #Removing all the noice in the hits file:\n",
    "    def nhit_over_7(data):    #Making a function that can remove all the data, that has a nhits over 7.\n",
    "        data = [data.particle_id[i] for i in range(len(data)) if data.nhits[i] >= 100]\n",
    "        return data\n",
    "    particle_id_with_nhits_over_7 = nhit_over_7(particles_zero_noice_sorted_unique)#Removing all the data where nhits is less then 7\n",
    "    particle_id_with_nhits_lees_7 = FRBV(particles_zero_noice_sorted_unique , \"particle_id\" , particle_id_with_nhits_over_7).drop(\"index\",axis = 1).reset_index().drop(\"index\",axis = 1)#Removing all the data where nhits is over then 7\n",
    "    truth_zero_noice_nhits_lees_7 = FRBV(truth_zero_noice , \"particle_id\" , particle_id_with_nhits_over_7).drop(\"index\",axis = 1).reset_index().drop(\"index\",axis = 1)#Removing all the data where a particle_id has more then 7 nhits.\n",
    "    def weight_equle_0(data):#Making a function that can make a list of the hit_ids that has a weight of 0.\n",
    "        data = [data.hit_id[i] for i in range(len(data)) if data.weight[i] == 0]\n",
    "        return data\n",
    "    truth_weight_0_list = weight_equle_0(truth_zero_noice_nhits_lees_7)#Using the weight_equle_0 function to make a list of hit_id´s that has a weight equle 0\n",
    "    truth_zero_noice_nhits_lees_7_weight_0 = FRBV(truth_zero_noice_nhits_lees_7,\"hit_id\",truth_weight_0_list).reset_index().drop(\"index\",axis = 1)#Using the list of hit_id´s that has a weight equle 0, to remove the rows in truth that has that hit_id.\n",
    "    truth_zero_noice_nhits_over_7 = FRBV(truth_zero_noice , \"particle_id\" ,truth_zero_noice_nhits_lees_7.particle_id).drop(\"index\",axis = 1).reset_index().drop(\"index\",axis = 1)#Removing the data where the particle_id has less then 7 nhits.\n",
    "    hits_zero_noice_nhits_lees_7 = FRBV(hits_zero_noice, \"hit_id\",truth_zero_noice_nhits_over_7[\"hit_id\"]).drop(\"index\",axis = 1).reset_index().drop(\"index\",axis = 1)#Removing the data where the hit_id has less the 7 nhits.\n",
    "    particles_id_over_3 = [particles.particle_id[i] for i in range(len(particles)) if particles.nhits[i] > 3]#Making a list of all the particle_ids that has over 3 nhits\n",
    "    truth_zero_noice_over_3 = FRBV(truth_zero_noice,\"particle_id\",particles_id_over_3).drop(\"index\",axis = 1).reset_index().drop(\"index\",axis = 1)#Removing all the data in truth that has less the 3 nhits. Used for later in cells and hits.  \n",
    "    hits_zero_noice_nhits_lees_7_over_3_with_weight_0 = FRBV(hits_zero_noice_nhits_lees_7,\"hit_id\",truth_zero_noice_over_3.hit_id).reset_index().drop(\"index\",axis = 1) #Removing all the data in hits that has over the 3 nhits.\n",
    "    hit_id_in_hits_but_not_in_truth = FRBV(hits_zero_noice_nhits_lees_7_over_3_with_weight_0,\"hit_id\",truth_zero_noice_nhits_lees_7_weight_0.hit_id).reset_index().drop(\"index\",axis = 1)  #Making a list of hit_id that is not in truth but is in hits\n",
    "    hits_zero_noice_nhits_lees_7_over_3_without_weight_0 = FRBV(hits_zero_noice_nhits_lees_7_over_3_with_weight_0,\"hit_id\",hit_id_in_hits_but_not_in_truth.hit_id).reset_index().drop(\"index\",axis = 1) #Using that hits not in truth, and then removing them from hits. \n",
    "    hits_merge = hits_zero_noice_nhits_lees_7_over_3_without_weight_0.merge(truth_zero_noice_nhits_lees_7_weight_0, how='left', on='hit_id')#Putting all the data from truth into hits:\n",
    "    def same_layer_filter(hits_new):#Making a same layer filter \n",
    "        hits_long_layer_filtert = hits_new.drop_duplicates(subset = [\"particle_id\",\"volume_id\", \"layer_id\"])\n",
    "        return hits_long_layer_filtert\n",
    "    hits_long_layer_filtert = same_layer_filter(hits_merge)\n",
    "    def Remove_Elements(data, thrsshold):#Making a function that can show the removed particles from same layer filter.\n",
    "        counted = Counter(data)\n",
    "        temp_lst = []\n",
    "        for i in counted:\n",
    "            if counted[i] < thrsshold:\n",
    "                temp_lst.append(i)\n",
    "        res_lst = []\n",
    "        for i in data:\n",
    "            if i not in temp_lst:\n",
    "                res_lst.append(i)\n",
    "        data = [i for i in data if counted[i] >= thrsshold]\n",
    "        return data , temp_lst , res_lst\n",
    "    thrsshold = 4\n",
    "    hits_filtert , particles_nhits_less_4 , particles_nhits_over_4 = Remove_Elements(hits_long_layer_filtert[\"particle_id\"],thrsshold)\n",
    "    hits_merge_filtered = FRBV(hits_long_layer_filtert ,\"particle_id\", particles_nhits_less_4).reset_index().drop(\"index\",axis = 1)#Removing the particles from the same layer filter in hits_merge and particle file\n",
    "    particles_merge_filtered = FRBV(particle_id_with_nhits_lees_7 ,\"particle_id\", particles_nhits_less_4).reset_index().drop(\"index\",axis = 1)#Removing the particles from the same layer filter in hits_merge and particle file\n",
    "    Pt = []\n",
    "    for i in (range(len(particles_merge_filtered))):#Calculating the pt of a particle:\n",
    "        func = (particles_merge_filtered.px[i]**2+particles_merge_filtered.py[i]**2)**(1/2)\n",
    "        Pt.append([particles_merge_filtered.particle_id[i],func])\n",
    "    Pt_1GeV = []\n",
    "    for i in range(len(Pt)):#Making the pt filter loop\n",
    "        if Pt[i][1] >= pt_cut_start and Pt[i][1] <= pt_cut_end: #pt_cut_start <= Pt[i][1] <= pt_cut_end :\n",
    "            Pt_1GeV.append(Pt[i])\n",
    "    particles_over_Pt_1GeV = []\n",
    "    for i in range(len(Pt_1GeV)):#Finding the particles from the pt filter \n",
    "        particles_over_Pt_1GeV.append(Pt_1GeV[i][0])\n",
    "    def FCBV(file_name, column_name, list_of_values):# Making a function that keeps values that is in list, and removes the ones that is not. \n",
    "        return file_name[file_name[column_name].isin(list_of_values)]\n",
    "    particles_over_Pt_1GeV_filtered = FCBV(particles_merge_filtered ,\"particle_id\", particles_over_Pt_1GeV).reset_index().drop(\"index\",axis = 1)#Removing the rows from the pt filter. \n",
    "    hits_merge_over_Pt_1GeV_filtered = FCBV(hits_merge_filtered ,\"particle_id\", particles_over_Pt_1GeV).reset_index().drop(\"index\",axis = 1)#Removing the rows from the pt filter. \n",
    "    lenghts = np.array([len(hits),len(hits_volume_filtered),len(hits_zero_noice),len(hits_merge),len(hits_merge_filtered),len(hits_merge_over_Pt_1GeV_filtered)])\n",
    "    lenghts_percent = np.array([len(hits)/len(hits)*100,len(hits_volume_filtered)/len(hits)*100,len(hits_zero_noice)/len(hits)*100,len(hits_merge)/len(hits)*100,len(hits_merge_filtered)/len(hits)*100,len(hits_merge_over_Pt_1GeV_filtered)/len(hits)*100])\n",
    "    return  hits_merge_over_Pt_1GeV_filtered , particles_over_Pt_1GeV_filtered , lenghts , lenghts_percent"
   ]
  },
  {
   "cell_type": "code",
   "execution_count": 5,
   "id": "9f9f2ae5-9518-478a-a19e-d25b1e535982",
   "metadata": {},
   "outputs": [
    {
     "name": "stdout",
     "output_type": "stream",
     "text": [
      "Wall time: 4min 5s\n"
     ]
    }
   ],
   "source": [
    "%%time\n",
    "hits_merge_all_filter_PtAll = []\n",
    "for i in range(len(hits_all)):\n",
    "    hits_merge_all_filter_PtAll.append(func_cleaning_data(hits_all[i],particles_all[i],truth_all[i],1,1000))"
   ]
  },
  {
   "cell_type": "code",
   "execution_count": 6,
   "id": "bc721755-5f29-4ca8-b661-046d62f716fc",
   "metadata": {},
   "outputs": [
    {
     "name": "stdout",
     "output_type": "stream",
     "text": [
      "Wall time: 4min 6s\n"
     ]
    }
   ],
   "source": [
    "%%time\n",
    "hits_merge_all_filter_Pt125 = []\n",
    "for i in range(len(hits_all)):\n",
    "    hits_merge_all_filter_Pt125.append(func_cleaning_data(hits_all[i],particles_all[i],truth_all[i],1,1.25))"
   ]
  },
  {
   "cell_type": "markdown",
   "id": "2ba9c772-1961-49ae-9f5d-2f10e85507ce",
   "metadata": {},
   "source": [
    "### Looking at the output of the filtering function"
   ]
  },
  {
   "cell_type": "code",
   "execution_count": 7,
   "id": "b2bce0d9-c524-49ec-b630-b08ab1eae77f",
   "metadata": {},
   "outputs": [
    {
     "name": "stdout",
     "output_type": "stream",
     "text": [
      "Amount of nodes: 510504 Amount of different particles: 88488\n",
      "Average % of data after all filters 4.64 %\n",
      "Average of data pre event input 109675.0\n",
      "There are between 4 and 10 hits per particle\n",
      "Wall time: 5.98 ms\n"
     ]
    }
   ],
   "source": [
    "%%time\n",
    "lenght_all_nodes_combined = []\n",
    "for i in range(len(hits_merge_all_filter_PtAll)):\n",
    "    lenght_all_nodes_combined.append(len(hits_merge_all_filter_PtAll[i][0]))\n",
    "lenght_all_particles_combined = []\n",
    "for i in range(len(hits_merge_all_filter_PtAll)):\n",
    "    lenght_all_particles_combined.append(len(hits_merge_all_filter_PtAll[i][1]))\n",
    "print(\"Amount of nodes:\",sum(lenght_all_nodes_combined),\"Amount of different particles:\",sum(lenght_all_particles_combined))\n",
    "\n",
    "data_left = []\n",
    "for i in range(len(hits_merge_all_filter_PtAll)):\n",
    "    data_left.append(np.round_(hits_merge_all_filter_PtAll[i][3][5],6))\n",
    "    data_leff_avg = sum(data_left)/len(data_left)\n",
    "    \n",
    "data_input = []\n",
    "for i in range(len(hits_merge_all_filter_PtAll)):\n",
    "    data_input.append(np.round_(hits_merge_all_filter_PtAll[i][2][0],6))\n",
    "    data_input_avg = sum(data_input)/len(data_input)\n",
    "    \n",
    "print(\"Average % of data after all filters\",round(data_leff_avg,2),\"%\")\n",
    "\n",
    "print(\"Average of data pre event input\",round(data_input_avg,0))\n",
    "\n",
    "print(\"There are between\",min((hits_merge_all_filter_PtAll[0][0][\"particle_id\"]).value_counts()),\"and\",max((hits_merge_all_filter_PtAll[0][0][\"particle_id\"]).value_counts()),\"hits per particle\")"
   ]
  },
  {
   "cell_type": "code",
   "execution_count": 8,
   "id": "99c6a1f7-a154-494b-9dd0-a6866912b872",
   "metadata": {},
   "outputs": [
    {
     "name": "stdout",
     "output_type": "stream",
     "text": [
      "100\n",
      "100\n",
      "31473\n",
      "88488\n",
      "Wall time: 3.64 s\n"
     ]
    }
   ],
   "source": [
    "%%time\n",
    "\n",
    "list_Pt_125 = []\n",
    "for i in range(len(hits_merge_all_filter_Pt125)):\n",
    "    list_Pt_125.append([])\n",
    "    for j in range(len(hits_merge_all_filter_Pt125[i][1])):\n",
    "        liste = hits_merge_all_filter_Pt125[i][1].px[j]**2+hits_merge_all_filter_Pt125[i][1].py[j]**2\n",
    "        list_Pt_125[i].append(liste)\n",
    "\n",
    "def pt_after_filter(data):\n",
    "    list_Pt = []\n",
    "    for i in range(len(data)):\n",
    "        list_Pt.append([])\n",
    "        for j in range(len(data[i][1])):\n",
    "            liste = (data[i][1].px[j]**2+data[i][1].py[j]**2)**(1/2)\n",
    "            list_Pt[i].append(liste)\n",
    "    return list_Pt\n",
    "\n",
    "def pt_after_filter2(data):\n",
    "    list_Pt = []\n",
    "    for i in range(len(data)):\n",
    "        for j in range(len(data[i][1])):\n",
    "            liste = (data[i][1].px[j]**2+data[i][1].py[j]**2)**(1/2)\n",
    "            list_Pt.append(liste)\n",
    "    return list_Pt\n",
    "\n",
    "def pt_pre_filter(data):\n",
    "    list_Pt = []\n",
    "    for i in range(len(data)):\n",
    "        for j in range(len(data[i])):\n",
    "            liste = (data[i].px[j]**2+data[i].py[j]**2)**(1/2)\n",
    "            list_Pt.append(liste)\n",
    "    return list_Pt\n",
    "\n",
    "print(len(pt_after_filter(hits_merge_all_filter_Pt125)))\n",
    "print(len(pt_after_filter(hits_merge_all_filter_PtAll)))\n",
    "print(len(pt_after_filter2(hits_merge_all_filter_Pt125)))\n",
    "print(len(pt_after_filter2(hits_merge_all_filter_PtAll)))\n",
    "# print(len(pt_after_filter(particles_all)))"
   ]
  },
  {
   "cell_type": "code",
   "execution_count": 9,
   "id": "775ff5c7-e1d8-49a1-b8a7-de2df94a9799",
   "metadata": {},
   "outputs": [
    {
     "name": "stdout",
     "output_type": "stream",
     "text": [
      "725\n",
      "725\n",
      "Wall time: 35.1 s\n"
     ]
    },
    {
     "data": {
      "text/plain": [
       "Text(0, 0.5, 'Particle amount')"
      ]
     },
     "execution_count": 9,
     "metadata": {},
     "output_type": "execute_result"
    },
    {
     "data": {
      "image/png": "[encoded data removed]",
      "text/plain": [
       "<Figure size 432x288 with 1 Axes>"
      ]
     },
     "metadata": {
      "needs_background": "light"
     },
     "output_type": "display_data"
    },
    {
     "data": {
      "image/png": "[encoded data removed]",
      "text/plain": [
       "<Figure size 432x288 with 1 Axes>"
      ]
     },
     "metadata": {
      "needs_background": "light"
     },
     "output_type": "display_data"
    },
    {
     "data": {
      "image/png": "[encoded data removed]",
      "text/plain": [
       "<Figure size 432x288 with 1 Axes>"
      ]
     },
     "metadata": {
      "needs_background": "light"
     },
     "output_type": "display_data"
    }
   ],
   "source": [
    "%%time\n",
    "eqw = np.array(pt_after_filter2(hits_merge_all_filter_PtAll))\n",
    "arr = eqw[eqw >= 8]\n",
    "print(len(arr))\n",
    "ewq = np.array(pt_pre_filter(particles_all))\n",
    "rew = eqw[eqw >= 8]\n",
    "print(len(rew))\n",
    "plt.figure(0)\n",
    "plt.tick_params(axis='x', which='major', labelsize=9)\n",
    "plt.tick_params(axis='y', which='major', labelsize=10)\n",
    "plt.title(\"Histogram of pt cut from 1 to 1.25 Gev\")\n",
    "plt.xlabel(\"pt [Gev]\")\n",
    "plt.ylabel(\"Particle amount\")\n",
    "plt.hist(pt_after_filter(hits_merge_all_filter_Pt125)[0],50)\n",
    "plt.figure(1)\n",
    "plt.tick_params(axis='x', which='major', labelsize=9)\n",
    "plt.tick_params(axis='y', which='major', labelsize=10)\n",
    "plt.title(\"Histogram of pt cut from 1 and above\")\n",
    "plt.xlabel(\"pt [Gev]\")\n",
    "plt.ylabel(\"Particle amount\")\n",
    "plt.hist(pt_after_filter(hits_merge_all_filter_PtAll)[0],500)\n",
    "plt.xlim(1,8)\n",
    "plt.figure(2)\n",
    "plt.hist(pt_pre_filter(particles_all),800)\n",
    "plt.xlim(0,8)\n",
    "plt.tick_params(axis='x', which='major', labelsize=9)\n",
    "plt.tick_params(axis='y', which='major', labelsize=10)\n",
    "plt.title(\"Histogram of pt before filtration\")\n",
    "plt.xlabel(\"pt [Gev]\")\n",
    "plt.ylabel(\"Particle amount\")"
   ]
  },
  {
   "cell_type": "code",
   "execution_count": 10,
   "id": "f1cadeff-3e64-460c-a17f-f81bf19679f0",
   "metadata": {},
   "outputs": [
    {
     "name": "stdout",
     "output_type": "stream",
     "text": [
      "Wall time: 33.9 ms\n"
     ]
    }
   ],
   "source": [
    "%%time\n",
    "def lenght_func(data,inteval):\n",
    "    data_lenght = []\n",
    "    for i in range(len(data[:inteval])):\n",
    "        for j in range(len(data[0][2])):\n",
    "            data_lenght.append(np.round_(data[i][2][j],6))\n",
    "    data_lenght_array = np.array(data_lenght).reshape(inteval,6)\n",
    "    data_lenght_avg = np.round_(sum(data_lenght_array)/len(data_lenght_array))\n",
    "    return data_lenght_avg\n",
    "\n",
    "def lenght_procent_func(data,inteval):\n",
    "    data_lenght = []\n",
    "    for i in range(len(data[:inteval])):\n",
    "        for j in range(len(data[0][2])):\n",
    "            data_lenght.append(np.round_(data[i][3][j],6))\n",
    "    data_lenght_array = np.array(data_lenght).reshape(inteval,6)\n",
    "    data_lenght_avg = np.round_(sum(data_lenght_array)/len(data_lenght_array),2)\n",
    "    return data_lenght_avg\n",
    "    \n",
    "event_call_list = np.array([10,20,50,75,100])\n",
    "data_lenghts_all = [lenght_func(hits_merge_all_filter_PtAll,i) for i in event_call_list]\n",
    "data_lenghts_procent_all = [lenght_procent_func(hits_merge_all_filter_PtAll,i) for i in event_call_list]\n",
    "\n",
    "data_lenghts_125 = [lenght_func(hits_merge_all_filter_Pt125,i) for i in event_call_list]\n",
    "data_lenghts_procent_125 = [lenght_procent_func(hits_merge_all_filter_Pt125,i) for i in event_call_list]\n"
   ]
  },
  {
   "cell_type": "code",
   "execution_count": 11,
   "id": "0f1af3d8-e8a2-41a6-b8f4-9f60e0461792",
   "metadata": {},
   "outputs": [],
   "source": [
    "def particles_left(data,events_call):\n",
    "    lenght_all_particles_combined = []\n",
    "    for i in range(len(data)):\n",
    "        lenght_all_particles_combined.append(len(data[i][1]))\n",
    "    return sum(lenght_all_particles_combined)\n",
    "\n",
    "lenght_all_nodes_combined = []\n",
    "for i in range(len(hits_merge_all_filter_PtAll)):\n",
    "    lenght_all_nodes_combined.append(len(hits_merge_all_filter_PtAll[i][0]))\n",
    "\n",
    "def nodes_after_filter(data,events_call):\n",
    "    lenght_all_nodes_combined = []\n",
    "    for i in range(len(data)):\n",
    "        lenght_all_nodes_combined.append(len(data[i][0]))\n",
    "    return sum(lenght_all_nodes_combined)\n",
    "\n",
    "particles_left_Pt_all = [particles_left(hits_merge_all_filter_PtAll[:i],event_call_list) for i in event_call_list]\n",
    "particles_left_Pt_125 = [particles_left(hits_merge_all_filter_Pt125[:i],event_call_list) for i in event_call_list]\n",
    "\n",
    "\n",
    "nodes_after_filter_Pt_all = [nodes_after_filter(hits_merge_all_filter_PtAll[:i],event_call_list) for i in event_call_list]\n",
    "nodes_after_filter_Pt_125 = [nodes_after_filter(hits_merge_all_filter_Pt125[:i],event_call_list) for i in event_call_list]\n",
    "\n",
    "predict_edges_Pt_all = [nodes_after_filter_Pt_all[i]-particles_left_Pt_all[i] for i in range(len(particles_left_Pt_all))]\n",
    "predict_edges_Pt_125 = [nodes_after_filter_Pt_125[i]-particles_left_Pt_125[i] for i in range(len(particles_left_Pt_125))]"
   ]
  },
  {
   "cell_type": "code",
   "execution_count": 12,
   "id": "3ca356ca-03c0-4c56-813e-99fa6896445f",
   "metadata": {},
   "outputs": [
    {
     "data": {
      "text/html": [
       "<div>\n",
       "<style scoped>\n",
       "    .dataframe tbody tr th:only-of-type {\n",
       "        vertical-align: middle;\n",
       "    }\n",
       "\n",
       "    .dataframe tbody tr th {\n",
       "        vertical-align: top;\n",
       "    }\n",
       "\n",
       "    .dataframe thead th {\n",
       "        text-align: right;\n",
       "    }\n",
       "</style>\n",
       "<table border=\"1\" class=\"dataframe\">\n",
       "  <thead>\n",
       "    <tr style=\"text-align: right;\">\n",
       "      <th></th>\n",
       "      <th>Pt [1,1.25]</th>\n",
       "      <th>Events used</th>\n",
       "      <th>50</th>\n",
       "      <th>100</th>\n",
       "    </tr>\n",
       "  </thead>\n",
       "  <tbody>\n",
       "    <tr>\n",
       "      <th>0</th>\n",
       "      <td></td>\n",
       "      <td>Avg input hits</td>\n",
       "      <td>111104.0</td>\n",
       "      <td>109675.0</td>\n",
       "    </tr>\n",
       "    <tr>\n",
       "      <th>1</th>\n",
       "      <td></td>\n",
       "      <td>Avg hits post F1</td>\n",
       "      <td>(60401.0, 54.39%)</td>\n",
       "      <td>(59670.0, 54.44%)</td>\n",
       "    </tr>\n",
       "    <tr>\n",
       "      <th>2</th>\n",
       "      <td></td>\n",
       "      <td>Avg hits post F2</td>\n",
       "      <td>(47387.0, 42.57%)</td>\n",
       "      <td>(46656.0, 42.46%)</td>\n",
       "    </tr>\n",
       "    <tr>\n",
       "      <th>3</th>\n",
       "      <td></td>\n",
       "      <td>Avg hits post F3</td>\n",
       "      <td>(46079.0, 41.39%)</td>\n",
       "      <td>(45377.0, 41.29%)</td>\n",
       "    </tr>\n",
       "    <tr>\n",
       "      <th>4</th>\n",
       "      <td></td>\n",
       "      <td>Avg hits post F4</td>\n",
       "      <td>(33752.0, 30.32%)</td>\n",
       "      <td>(33253.0, 30.26%)</td>\n",
       "    </tr>\n",
       "    <tr>\n",
       "      <th>5</th>\n",
       "      <td></td>\n",
       "      <td>Avg hits post F5</td>\n",
       "      <td>(1809.0, 1.62%)</td>\n",
       "      <td>(1775.0, 1.61%)</td>\n",
       "    </tr>\n",
       "    <tr>\n",
       "      <th>6</th>\n",
       "      <td></td>\n",
       "      <td>Total particle count</td>\n",
       "      <td>16052</td>\n",
       "      <td>31473</td>\n",
       "    </tr>\n",
       "    <tr>\n",
       "      <th>7</th>\n",
       "      <td></td>\n",
       "      <td>Total nodes count</td>\n",
       "      <td>90428</td>\n",
       "      <td>177519</td>\n",
       "    </tr>\n",
       "    <tr>\n",
       "      <th>8</th>\n",
       "      <td></td>\n",
       "      <td>Maximum possible true edges</td>\n",
       "      <td>74376</td>\n",
       "      <td>146046</td>\n",
       "    </tr>\n",
       "  </tbody>\n",
       "</table>\n",
       "</div>"
      ],
      "text/plain": [
       "  Pt [1,1.25]                  Events used                 50  \\\n",
       "0                           Avg input hits           111104.0   \n",
       "1                         Avg hits post F1  (60401.0, 54.39%)   \n",
       "2                         Avg hits post F2  (47387.0, 42.57%)   \n",
       "3                         Avg hits post F3  (46079.0, 41.39%)   \n",
       "4                         Avg hits post F4  (33752.0, 30.32%)   \n",
       "5                         Avg hits post F5    (1809.0, 1.62%)   \n",
       "6                     Total particle count              16052   \n",
       "7                        Total nodes count              90428   \n",
       "8              Maximum possible true edges              74376   \n",
       "\n",
       "                 100  \n",
       "0           109675.0  \n",
       "1  (59670.0, 54.44%)  \n",
       "2  (46656.0, 42.46%)  \n",
       "3  (45377.0, 41.29%)  \n",
       "4  (33253.0, 30.26%)  \n",
       "5    (1775.0, 1.61%)  \n",
       "6              31473  \n",
       "7             177519  \n",
       "8             146046  "
      ]
     },
     "metadata": {},
     "output_type": "display_data"
    },
    {
     "data": {
      "text/html": [
       "<div>\n",
       "<style scoped>\n",
       "    .dataframe tbody tr th:only-of-type {\n",
       "        vertical-align: middle;\n",
       "    }\n",
       "\n",
       "    .dataframe tbody tr th {\n",
       "        vertical-align: top;\n",
       "    }\n",
       "\n",
       "    .dataframe thead th {\n",
       "        text-align: right;\n",
       "    }\n",
       "</style>\n",
       "<table border=\"1\" class=\"dataframe\">\n",
       "  <thead>\n",
       "    <tr style=\"text-align: right;\">\n",
       "      <th></th>\n",
       "      <th>Pt [1,$\\infty$]</th>\n",
       "      <th>Events used</th>\n",
       "      <th>50</th>\n",
       "      <th>100</th>\n",
       "    </tr>\n",
       "  </thead>\n",
       "  <tbody>\n",
       "    <tr>\n",
       "      <th>0</th>\n",
       "      <td></td>\n",
       "      <td>Avg hits after filter 5</td>\n",
       "      <td>(5202.0, 4.67%)</td>\n",
       "      <td>(5105.0, 4.64%)</td>\n",
       "    </tr>\n",
       "    <tr>\n",
       "      <th>1</th>\n",
       "      <td></td>\n",
       "      <td>Total particle count</td>\n",
       "      <td>45162</td>\n",
       "      <td>88488</td>\n",
       "    </tr>\n",
       "    <tr>\n",
       "      <th>2</th>\n",
       "      <td></td>\n",
       "      <td>Total nodes count</td>\n",
       "      <td>260114</td>\n",
       "      <td>510504</td>\n",
       "    </tr>\n",
       "    <tr>\n",
       "      <th>3</th>\n",
       "      <td></td>\n",
       "      <td>Maximum possible true edges</td>\n",
       "      <td>214952</td>\n",
       "      <td>422016</td>\n",
       "    </tr>\n",
       "  </tbody>\n",
       "</table>\n",
       "</div>"
      ],
      "text/plain": [
       "  Pt [1,$\\infty$]                  Events used               50  \\\n",
       "0                      Avg hits after filter 5  (5202.0, 4.67%)   \n",
       "1                         Total particle count            45162   \n",
       "2                            Total nodes count           260114   \n",
       "3                  Maximum possible true edges           214952   \n",
       "\n",
       "               100  \n",
       "0  (5105.0, 4.64%)  \n",
       "1            88488  \n",
       "2           510504  \n",
       "3           422016  "
      ]
     },
     "metadata": {},
     "output_type": "display_data"
    }
   ],
   "source": [
    "lenght_table = {\"Pt [1,1.25]\": [\"\",\"\",\"\",\"\",\"\",\"\",\"\",\"\",\"\"],\n",
    "'Events used': ['Avg input hits', 'Avg hits post F1', 'Avg hits post F2',\"Avg hits post F3\",\"Avg hits post F4\",\"Avg hits post F5\",\"Total particle count\",\"Total nodes count\",\"Maximum possible true edges\"],\n",
    "\n",
    "'50': [data_lenghts_125[2][0],(data_lenghts_125[2][1],f'{data_lenghts_procent_125[2][1]}%'), (data_lenghts_125[2][2],f'{data_lenghts_procent_125[2][2]}%'), (data_lenghts_125[2][3],f'{data_lenghts_procent_125[2][3]}%'), (data_lenghts_125[2][4],f'{data_lenghts_procent_125[2][4]}%'), (data_lenghts_125[2][5],f'{data_lenghts_procent_125[2][5]}%'),particles_left_Pt_125[2],nodes_after_filter_Pt_125[2],predict_edges_Pt_125[2]],\n",
    "'100':[data_lenghts_125[4][0],(data_lenghts_125[4][1],f'{data_lenghts_procent_125[4][1]}%'), (data_lenghts_125[4][2],f'{data_lenghts_procent_125[4][2]}%'), (data_lenghts_125[4][3],f'{data_lenghts_procent_125[4][3]}%'), (data_lenghts_125[4][4],f'{data_lenghts_procent_125[4][4]}%'), (data_lenghts_125[4][5],f'{data_lenghts_procent_125[4][5]}%'),particles_left_Pt_125[4],nodes_after_filter_Pt_125[4],predict_edges_Pt_125[4]]\n",
    "}\n",
    "lenght_table = pd.DataFrame(data=lenght_table)\n",
    "display(lenght_table)\n",
    "\n",
    "lenght_table = {\"Pt [1,$\\infty$]\": [\"\",\"\",\"\",\"\"],\n",
    "'Events used': [\"Avg hits after filter 5\",\"Total particle count\",\"Total nodes count\",\"Maximum possible true edges\"],\n",
    "'50': [ (data_lenghts_all[2][5],f\"{data_lenghts_procent_all[2][5]}%\"),particles_left_Pt_all[2],nodes_after_filter_Pt_all[2],predict_edges_Pt_all[2]],\n",
    "'100':[ (data_lenghts_all[4][5],f\"{data_lenghts_procent_all[4][5]}%\"),particles_left_Pt_all[4],nodes_after_filter_Pt_all[4],predict_edges_Pt_all[4]]\n",
    "}\n",
    "lenght_table = pd.DataFrame(data=lenght_table)\n",
    "display(lenght_table)"
   ]
  },
  {
   "cell_type": "markdown",
   "id": "b8b3fff2-aabf-4259-a041-6ef0e2783f3c",
   "metadata": {},
   "source": [
    "## Function that findes the edges and nodes"
   ]
  },
  {
   "cell_type": "code",
   "execution_count": 13,
   "id": "87681f87-cc3e-4f18-9799-af15dd9483fd",
   "metadata": {},
   "outputs": [],
   "source": [
    "def nodes_and_edges(data,x,y,z,dpdr_filter,z0_filter):\n",
    "    def transform_and_merge(data,x,y,z):\n",
    "        def car_to_cyl_cood(x,y,z):\n",
    "            r = np.sqrt(x**2 + y**2)\n",
    "            phi = np.arctan2(y,x)\n",
    "            z = z\n",
    "            return r , phi , z \n",
    "        r_hits , phi_hits , z_hits = car_to_cyl_cood(x,y,z)\n",
    "        data[\"phi\"] = phi_hits\n",
    "        data[\"r\"] = r_hits\n",
    "        return data , r_hits , phi_hits , z_hits\n",
    "\n",
    "    hits_merge , r_hits , phi_hits , z_hits = transform_and_merge(data,data.x , data.y , data.z)\n",
    "    def car_to_sphe_cood(r,z):\n",
    "        theta = np.arctan2(r,z)\n",
    "        return theta\n",
    "\n",
    "    theta = car_to_sphe_cood(r_hits,z_hits)\n",
    "    eta = -np.log(np.tan(theta/2))\n",
    "    rr = np.array(hits_merge.r)\n",
    "    zz = np.array(hits_merge.z)\n",
    "    pp = np.array(hits_merge.phi)\n",
    "    dpp = []\n",
    "    node_to_node_feat = []\n",
    "    for i, idx in enumerate(range(len(pp))):\n",
    "        for k, kdx in enumerate(range(len(rr))):\n",
    "            dpdr = (pp[k]- pp[i])/(rr[k]-rr[i])\n",
    "            dr = rr[k]-rr[i]\n",
    "            z0 =  zz[i] - (rr[i]*(zz[k]-zz[i])/(rr[k]-rr[i]))\n",
    "            if abs(dpdr) < dpdr_filter and abs(z0) < z0_filter and dr > 0:\n",
    "                dpp.append([(hits_merge.particle_id[i] == hits_merge.particle_id[k])*1,dpdr, idx, kdx, hits_merge.hit_id[idx],\n",
    "                            hits_merge.hit_id[kdx],abs(dr),hits_merge.z[idx],hits_merge.z[kdx],hits_merge.r[idx],hits_merge.r[kdx],hits_merge.phi[idx],\n",
    "                            hits_merge.phi[kdx],hits_merge.x[idx],hits_merge.x[kdx],hits_merge.y[idx],hits_merge.y[kdx]])\n",
    "                node_to_node_feat.append([hits_merge.z[idx],hits_merge.z[kdx],hits_merge.r[idx],hits_merge.r[kdx],hits_merge.phi[idx],hits_merge.phi[kdx]])\n",
    "    dp_over_dr_TF = pd.DataFrame(dpp)\n",
    "    dp_over_dr_TF.columns = ['Y_k' , \"dpdr\" , 'node_1', 'node_2',\"hit_id_node1\",\"hit_id_node2\",\"dr\",\"z_node1\",\"z_node2\",\"r_node1\",\"r_node2\",\"phi_node1\",\"phi_node2\",\n",
    "                            \"x_node1\",\"x_node2\",\"y_node1\",\"y_node2\"]\n",
    "    dp_over_dr_True = []\n",
    "    for i in range(len(dpp)):\n",
    "        if dpp[i][0] == 1:\n",
    "            dp_over_dr_True.append(dpp[i])\n",
    "    dp_over_dr_True = pd.DataFrame(dp_over_dr_True)\n",
    "    dp_over_dr_True.columns = ['Y_k' , \"dpdr\" , 'node_1', 'node_2',\"hit_id_node1\",\"hit_id_node2\",\"dr\",\"z_node1\",\"z_node2\",\"r_node1\",\"r_node2\",\"phi_node1\",\"phi_node2\",\n",
    "                            \"x_node1\",\"x_node2\",\"y_node1\",\"y_node2\"]\n",
    "    dp_over_dr_True = dp_over_dr_True.drop_duplicates(subset = \"dpdr\",ignore_index = True)\n",
    "    dp_over_dr_False = []\n",
    "    for i in range(len(dpp)):\n",
    "        if dpp[i][0] == 0:\n",
    "            dp_over_dr_False.append(dpp[i])\n",
    "    dp_over_dr_False = pd.DataFrame(dp_over_dr_False)\n",
    "    dp_over_dr_False.columns = ['Y_k' , \"dpdr\" , 'node_1', 'node_2',\"hit_id_node1\",\"hit_id_node2\",\"dr\",\"z_node1\",\"z_node2\",\"r_node1\",\"r_node2\",\"phi_node1\",\"phi_node2\",\n",
    "                            \"x_node1\",\"x_node2\",\"y_node1\",\"y_node2\"]\n",
    "    dp_over_dr_False = dp_over_dr_False.drop_duplicates(subset = \"dpdr\",ignore_index = True)\n",
    "    #Making the datafram that contains the nodes ids and the nodes features. \n",
    "    nodes_id_plus_features = hits_merge[[\"hit_id\",\"z\",\"r\",\"phi\"]].copy()\n",
    "    return nodes_id_plus_features , dp_over_dr_True , dp_over_dr_False"
   ]
  },
  {
   "cell_type": "code",
   "execution_count": 14,
   "id": "9fedb075-7f33-4858-aa12-7c3a4fb4b893",
   "metadata": {},
   "outputs": [],
   "source": [
    "def lenght_func(data,inteval):\n",
    "    data_lenght = []\n",
    "    for i in range(len(data[:inteval])):\n",
    "        for j in range(len(data[0][2])):\n",
    "            data_lenght.append(np.round_(data[i][2][j],6))\n",
    "    data_lenght_array = np.array(data_lenght).reshape(inteval,6)\n",
    "    data_lenght_avg = np.round_(sum(data_lenght_array)/len(data_lenght_array))\n",
    "    return data_lenght_avg\n",
    "\n",
    "def lenght_procent_func(data,inteval):\n",
    "    data_lenght = []\n",
    "    for i in range(len(data[:inteval])):\n",
    "        for j in range(len(data[0][2])):\n",
    "            data_lenght.append(np.round_(data[i][3][j],6))\n",
    "    data_lenght_array = np.array(data_lenght).reshape(inteval,6)\n",
    "    data_lenght_avg = np.round_(sum(data_lenght_array)/len(data_lenght_array),2)\n",
    "    return data_lenght_avg\n",
    "    \n",
    "event_call_list = np.array([10,20,50,75,100])\n",
    "\n",
    "data_lenghts_125 = [lenght_func(hits_merge_all_filter_Pt125,i) for i in event_call_list]\n",
    "data_lenghts_procent_125 = [lenght_procent_func(hits_merge_all_filter_Pt125,i) for i in event_call_list]\n",
    "particles_left_Pt_125_5 = particles_left(hits_merge_all_filter_Pt125[:5],event_call_list)\n",
    "nodes_after_filter_Pt_125_5 = nodes_after_filter(hits_merge_all_filter_Pt125[:5],event_call_list)\n",
    "predict_edges_Pt_125_5 = nodes_after_filter_Pt_125_5-particles_left_Pt_125_5"
   ]
  },
  {
   "cell_type": "code",
   "execution_count": 15,
   "id": "a3f6e403-f1b9-4d1f-8ddb-e7f03559a4fe",
   "metadata": {},
   "outputs": [
    {
     "name": "stdout",
     "output_type": "stream",
     "text": [
      "Wall time: 0 ns\n"
     ]
    }
   ],
   "source": [
    "%%time\n",
    "def nodes_edges_dpdr_tester(data,events,dpdr_filter,z0_filter):\n",
    "    hits_merge_all = [nodes_and_edges(data[i][0] , data[i][0].x , data[i][0].y , data[i][0].z,dpdr_filter,z0_filter) for i in range(events)] \n",
    "    All_edges_T = [REWMHT(hits_merge_all[i]) for i in range(len(hits_merge_all))] \n",
    "    All_edges_T_combined = pd.concat(All_edges_T, ignore_index=True)\n",
    "    particles_left_Pt_125_5 = particles_left(data[:events],events)\n",
    "    nodes_after_filter_Pt_125_5 = nodes_after_filter(data[:events],events)\n",
    "    predict_edges_Pt_125_5 = nodes_after_filter_Pt_125_5-particles_left_Pt_125_5\n",
    "    procent_predicted_right = len(All_edges_T_combined)/predict_edges_Pt_125_5*100\n",
    "    return procent_predicted_right"
   ]
  }
 ],
 "metadata": {
  "kernelspec": {
   "display_name": "Python 3 (ipykernel)",
   "language": "python",
   "name": "python3"
  },
  "language_info": {
   "codemirror_mode": {
    "name": "ipython",
    "version": 3
   },
   "file_extension": ".py",
   "mimetype": "text/x-python",
   "name": "python",
   "nbconvert_exporter": "python",
   "pygments_lexer": "ipython3",
   "version": "3.9.7"
  }
 },
 "nbformat": 4,
 "nbformat_minor": 5
}
